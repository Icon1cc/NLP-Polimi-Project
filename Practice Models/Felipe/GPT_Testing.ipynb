{
  "cells": [
    {
      "cell_type": "markdown",
      "metadata": {
        "id": "SAJYZ9wA8jjp"
      },
      "source": [
        "# Testing de GPT Fine Tunned Model"
      ]
    },
    {
      "cell_type": "markdown",
      "metadata": {
        "id": "cdlvHDYH8sYG"
      },
      "source": [
        "## Connect to GDrive"
      ]
    },
    {
      "cell_type": "code",
      "execution_count": null,
      "metadata": {
        "colab": {
          "base_uri": "https://localhost:8080/"
        },
        "id": "q7YvyRaDPXfg",
        "outputId": "e02e1685-8008-433e-a1e1-0cb579c76008"
      },
      "outputs": [
        {
          "name": "stdout",
          "output_type": "stream",
          "text": [
            "Mounted at /content/drive\n"
          ]
        }
      ],
      "source": [
        "from google.colab import drive\n",
        "drive.mount('/content/drive')"
      ]
    },
    {
      "cell_type": "code",
      "execution_count": null,
      "metadata": {
        "colab": {
          "base_uri": "https://localhost:8080/",
          "height": 55
        },
        "id": "7DZ27ugDPawt",
        "outputId": "8a5029a5-c3f7-4ff3-8a6c-d9c7b7116938"
      },
      "outputs": [
        {
          "data": {
            "application/vnd.google.colaboratory.intrinsic+json": {
              "type": "string"
            },
            "text/plain": [
              "'/content/drive/MyDrive/_NLP/Project'"
            ]
          },
          "execution_count": 2,
          "metadata": {},
          "output_type": "execute_result"
        }
      ],
      "source": [
        "import os\n",
        "\n",
        "path = '_NLP/Project'\n",
        "\n",
        "os.chdir(f'/content/drive/MyDrive/{path}')\n",
        "os.getcwd()"
      ]
    },
    {
      "cell_type": "markdown",
      "metadata": {
        "id": "iQmwhfga8wl_"
      },
      "source": [
        "## Install requirements"
      ]
    },
    {
      "cell_type": "code",
      "execution_count": null,
      "metadata": {
        "colab": {
          "base_uri": "https://localhost:8080/"
        },
        "id": "e1peWXWRPb0O",
        "outputId": "ffe1be27-61b7-43bf-e926-28b41170b9b2"
      },
      "outputs": [
        {
          "name": "stdout",
          "output_type": "stream",
          "text": [
            "\u001b[33mWARNING: Skipping openai as it is not installed.\u001b[0m\u001b[33m\n",
            "\u001b[0mCollecting openai==0.28\n",
            "  Downloading openai-0.28.0-py3-none-any.whl (76 kB)\n",
            "\u001b[2K     \u001b[90m━━━━━━━━━━━━━━━━━━━━━━━━━━━━━━━━━━━━━━━━\u001b[0m \u001b[32m76.5/76.5 kB\u001b[0m \u001b[31m1.9 MB/s\u001b[0m eta \u001b[36m0:00:00\u001b[0m\n",
            "\u001b[?25hRequirement already satisfied: requests>=2.20 in /usr/local/lib/python3.10/dist-packages (from openai==0.28) (2.31.0)\n",
            "Requirement already satisfied: tqdm in /usr/local/lib/python3.10/dist-packages (from openai==0.28) (4.66.4)\n",
            "Requirement already satisfied: aiohttp in /usr/local/lib/python3.10/dist-packages (from openai==0.28) (3.9.5)\n",
            "Requirement already satisfied: charset-normalizer<4,>=2 in /usr/local/lib/python3.10/dist-packages (from requests>=2.20->openai==0.28) (3.3.2)\n",
            "Requirement already satisfied: idna<4,>=2.5 in /usr/local/lib/python3.10/dist-packages (from requests>=2.20->openai==0.28) (3.7)\n",
            "Requirement already satisfied: urllib3<3,>=1.21.1 in /usr/local/lib/python3.10/dist-packages (from requests>=2.20->openai==0.28) (2.0.7)\n",
            "Requirement already satisfied: certifi>=2017.4.17 in /usr/local/lib/python3.10/dist-packages (from requests>=2.20->openai==0.28) (2024.2.2)\n",
            "Requirement already satisfied: aiosignal>=1.1.2 in /usr/local/lib/python3.10/dist-packages (from aiohttp->openai==0.28) (1.3.1)\n",
            "Requirement already satisfied: attrs>=17.3.0 in /usr/local/lib/python3.10/dist-packages (from aiohttp->openai==0.28) (23.2.0)\n",
            "Requirement already satisfied: frozenlist>=1.1.1 in /usr/local/lib/python3.10/dist-packages (from aiohttp->openai==0.28) (1.4.1)\n",
            "Requirement already satisfied: multidict<7.0,>=4.5 in /usr/local/lib/python3.10/dist-packages (from aiohttp->openai==0.28) (6.0.5)\n",
            "Requirement already satisfied: yarl<2.0,>=1.0 in /usr/local/lib/python3.10/dist-packages (from aiohttp->openai==0.28) (1.9.4)\n",
            "Requirement already satisfied: async-timeout<5.0,>=4.0 in /usr/local/lib/python3.10/dist-packages (from aiohttp->openai==0.28) (4.0.3)\n",
            "Installing collected packages: openai\n",
            "Successfully installed openai-0.28.0\n"
          ]
        }
      ],
      "source": [
        "!pip uninstall -y openai\n",
        "!pip install openai==0.28\n",
        "!pip install datasets\n",
        "!pip install scikit-learn sentence-transformers\n",
        "!pip install nltk"
      ]
    },
    {
      "cell_type": "code",
      "execution_count": null,
      "metadata": {
        "id": "lEcceQOLPjP2"
      },
      "outputs": [],
      "source": [
        "import json\n",
        "import openai\n",
        "import pandas as pd\n",
        "import numpy as np\n",
        "from datasets import load_dataset\n",
        "from sklearn.model_selection import train_test_split\n",
        "from sentence_transformers import SentenceTransformer\n",
        "from sklearn.metrics.pairwise import cosine_similarity\n",
        "import nltk\n",
        "from nltk.translate.bleu_score import sentence_bleu, SmoothingFunction"
      ]
    },
    {
      "cell_type": "markdown",
      "metadata": {
        "id": "WWcoK4IK82Q3"
      },
      "source": [
        "## Add API key"
      ]
    },
    {
      "cell_type": "code",
      "execution_count": null,
      "metadata": {
        "id": "qGua3-FBPjyP"
      },
      "outputs": [],
      "source": [
        "api_key =\"sk-proj-##########\" #ADD YOU API KEY HERE\n",
        "openai.api_key = api_key"
      ]
    },
    {
      "cell_type": "markdown",
      "metadata": {
        "id": "wToBCY9z86BZ"
      },
      "source": [
        "## Split dataset"
      ]
    },
    {
      "cell_type": "code",
      "execution_count": null,
      "metadata": {
        "colab": {
          "base_uri": "https://localhost:8080/",
          "height": 69,
          "referenced_widgets": [
            "c8f9fce0b44a4d69a825de01f87cbdd0",
            "4824f586113042efa219bfa1727c27e8",
            "f27e48e2a0ce4f12b20e97366420924e",
            "d03a750452124c7f9a0ce24481fc460f",
            "7d11d7c7e517466db81025d20edf8934",
            "2142acae930046988902ebd879a920b1",
            "d63bb1caea134834b66824256487ecce",
            "e16fb8818d144b518569f517f59b221b",
            "efc3bf4349d74bceb34ab710650d7aa9",
            "bcc4cfd68afd47bcb036add6b35ddc1e",
            "439519e6993240a4827420b3b880840c"
          ]
        },
        "id": "hXb5mLanPmkJ",
        "outputId": "87853103-45c5-4795-acf6-109c39208794"
      },
      "outputs": [
        {
          "data": {
            "application/vnd.jupyter.widget-view+json": {
              "model_id": "c8f9fce0b44a4d69a825de01f87cbdd0",
              "version_major": 2,
              "version_minor": 0
            },
            "text/plain": [
              "Generating train split: 0 examples [00:00, ? examples/s]"
            ]
          },
          "metadata": {},
          "output_type": "display_data"
        }
      ],
      "source": [
        "dataset = load_dataset('arrow', data_files='data-00000-of-00001.arrow')\n",
        "df = dataset['train'].to_pandas()\n",
        "df = df.iloc[:, :-1]"
      ]
    },
    {
      "cell_type": "code",
      "execution_count": null,
      "metadata": {
        "id": "G9eiPo8uPvEZ"
      },
      "outputs": [],
      "source": [
        "train_data, test_data = train_test_split(df, test_size=0.2, random_state=42)"
      ]
    },
    {
      "cell_type": "code",
      "execution_count": null,
      "metadata": {
        "colab": {
          "base_uri": "https://localhost:8080/",
          "height": 226
        },
        "id": "FMxttUqMP2gf",
        "outputId": "9f6d81b2-574c-4917-aaff-3d8fbe7ca8f4"
      },
      "outputs": [
        {
          "data": {
            "application/vnd.google.colaboratory.intrinsic+json": {
              "summary": "{\n  \"name\": \"test_data\",\n  \"rows\": 6791,\n  \"fields\": [\n    {\n      \"column\": \"input\",\n      \"properties\": {\n        \"dtype\": \"string\",\n        \"num_unique_values\": 6703,\n        \"samples\": [\n          \"What is the effect of decreased HCO3- (metabolic acidosis) on arterial pH?\",\n          \"What are the muscles that may be used for vigorous inspiration during exercise or respiratory distress?\",\n          \"At what age does biliary obstruction typically occur in infants with biliary atresia?\"\n        ],\n        \"semantic_type\": \"\",\n        \"description\": \"\"\n      }\n    },\n    {\n      \"column\": \"output\",\n      \"properties\": {\n        \"dtype\": \"string\",\n        \"num_unique_values\": 6706,\n        \"samples\": [\n          \"Plasmodium vivax and Plasmodium ovale are the two strains of the malaria parasite that have a preference for infecting reticulocytes, which are immature red blood cells. This preference is due to a protein called the Duffy antigen, which is present on the surface of reticulocytes but absent from mature red blood cells. Plasmodium vivax and Plasmodium ovale are also the only two species of Plasmodium that can form dormant liver stages known as hypnozoites, which can reactivate and cause relapses of the infection weeks or months after the initial infection. Because of these unique features, P. vivax and P. ovale pose a significant challenge for malaria control and elimination efforts.\",\n          \"What is the increased risk associated with fetal macrosomia during delivery? Fetal macrosomia is associated with an increased risk for shoulder dystocia.\",\n          \"Ulnar claw hand is a distortion of the hand that is most apparent when extending the fingers or at rest. It is caused by a distal ulnar nerve lesion. The ulnar nerve is one of the major nerves in the arm and is responsible for providing sensation and motor function to the hand and fingers. Damage to the ulnar nerve can result in a variety of symptoms, including weakness, numbness, and tingling in the hand and fingers, as well as the characteristic claw-like deformity. Ulnar claw hand can be caused by a variety of factors, including trauma, repetitive motion injuries, and certain medical conditions such as diabetes or arthritis.\"\n        ],\n        \"semantic_type\": \"\",\n        \"description\": \"\"\n      }\n    }\n  ]\n}",
              "type": "dataframe",
              "variable_name": "test_data"
            },
            "text/html": [
              "\n",
              "  <div id=\"df-89511000-2476-4106-babb-7a70ffc4e81e\" class=\"colab-df-container\">\n",
              "    <div>\n",
              "<style scoped>\n",
              "    .dataframe tbody tr th:only-of-type {\n",
              "        vertical-align: middle;\n",
              "    }\n",
              "\n",
              "    .dataframe tbody tr th {\n",
              "        vertical-align: top;\n",
              "    }\n",
              "\n",
              "    .dataframe thead th {\n",
              "        text-align: right;\n",
              "    }\n",
              "</style>\n",
              "<table border=\"1\" class=\"dataframe\">\n",
              "  <thead>\n",
              "    <tr style=\"text-align: right;\">\n",
              "      <th></th>\n",
              "      <th>input</th>\n",
              "      <th>output</th>\n",
              "    </tr>\n",
              "  </thead>\n",
              "  <tbody>\n",
              "    <tr>\n",
              "      <th>27911</th>\n",
              "      <td>What are some physical signs that may indicate...</td>\n",
              "      <td>What are some physical signs that may indicate...</td>\n",
              "    </tr>\n",
              "    <tr>\n",
              "      <th>7251</th>\n",
              "      <td>What is the name of the amino acid that serves...</td>\n",
              "      <td>Arginine is the amino acid that acts as the pr...</td>\n",
              "    </tr>\n",
              "    <tr>\n",
              "      <th>32050</th>\n",
              "      <td>Do high or low potency typical antipsychotics ...</td>\n",
              "      <td>High potency typical antipsychotics are more l...</td>\n",
              "    </tr>\n",
              "    <tr>\n",
              "      <th>7969</th>\n",
              "      <td>Which type of heart valves are commonly affect...</td>\n",
              "      <td>Viridans streptococci infection is typically s...</td>\n",
              "    </tr>\n",
              "    <tr>\n",
              "      <th>6904</th>\n",
              "      <td>Among all bugs, which one is the most frequent...</td>\n",
              "      <td>Staphylococcus aureus is the bug that is the m...</td>\n",
              "    </tr>\n",
              "  </tbody>\n",
              "</table>\n",
              "</div>\n",
              "    <div class=\"colab-df-buttons\">\n",
              "\n",
              "  <div class=\"colab-df-container\">\n",
              "    <button class=\"colab-df-convert\" onclick=\"convertToInteractive('df-89511000-2476-4106-babb-7a70ffc4e81e')\"\n",
              "            title=\"Convert this dataframe to an interactive table.\"\n",
              "            style=\"display:none;\">\n",
              "\n",
              "  <svg xmlns=\"http://www.w3.org/2000/svg\" height=\"24px\" viewBox=\"0 -960 960 960\">\n",
              "    <path d=\"M120-120v-720h720v720H120Zm60-500h600v-160H180v160Zm220 220h160v-160H400v160Zm0 220h160v-160H400v160ZM180-400h160v-160H180v160Zm440 0h160v-160H620v160ZM180-180h160v-160H180v160Zm440 0h160v-160H620v160Z\"/>\n",
              "  </svg>\n",
              "    </button>\n",
              "\n",
              "  <style>\n",
              "    .colab-df-container {\n",
              "      display:flex;\n",
              "      gap: 12px;\n",
              "    }\n",
              "\n",
              "    .colab-df-convert {\n",
              "      background-color: #E8F0FE;\n",
              "      border: none;\n",
              "      border-radius: 50%;\n",
              "      cursor: pointer;\n",
              "      display: none;\n",
              "      fill: #1967D2;\n",
              "      height: 32px;\n",
              "      padding: 0 0 0 0;\n",
              "      width: 32px;\n",
              "    }\n",
              "\n",
              "    .colab-df-convert:hover {\n",
              "      background-color: #E2EBFA;\n",
              "      box-shadow: 0px 1px 2px rgba(60, 64, 67, 0.3), 0px 1px 3px 1px rgba(60, 64, 67, 0.15);\n",
              "      fill: #174EA6;\n",
              "    }\n",
              "\n",
              "    .colab-df-buttons div {\n",
              "      margin-bottom: 4px;\n",
              "    }\n",
              "\n",
              "    [theme=dark] .colab-df-convert {\n",
              "      background-color: #3B4455;\n",
              "      fill: #D2E3FC;\n",
              "    }\n",
              "\n",
              "    [theme=dark] .colab-df-convert:hover {\n",
              "      background-color: #434B5C;\n",
              "      box-shadow: 0px 1px 3px 1px rgba(0, 0, 0, 0.15);\n",
              "      filter: drop-shadow(0px 1px 2px rgba(0, 0, 0, 0.3));\n",
              "      fill: #FFFFFF;\n",
              "    }\n",
              "  </style>\n",
              "\n",
              "    <script>\n",
              "      const buttonEl =\n",
              "        document.querySelector('#df-89511000-2476-4106-babb-7a70ffc4e81e button.colab-df-convert');\n",
              "      buttonEl.style.display =\n",
              "        google.colab.kernel.accessAllowed ? 'block' : 'none';\n",
              "\n",
              "      async function convertToInteractive(key) {\n",
              "        const element = document.querySelector('#df-89511000-2476-4106-babb-7a70ffc4e81e');\n",
              "        const dataTable =\n",
              "          await google.colab.kernel.invokeFunction('convertToInteractive',\n",
              "                                                    [key], {});\n",
              "        if (!dataTable) return;\n",
              "\n",
              "        const docLinkHtml = 'Like what you see? Visit the ' +\n",
              "          '<a target=\"_blank\" href=https://colab.research.google.com/notebooks/data_table.ipynb>data table notebook</a>'\n",
              "          + ' to learn more about interactive tables.';\n",
              "        element.innerHTML = '';\n",
              "        dataTable['output_type'] = 'display_data';\n",
              "        await google.colab.output.renderOutput(dataTable, element);\n",
              "        const docLink = document.createElement('div');\n",
              "        docLink.innerHTML = docLinkHtml;\n",
              "        element.appendChild(docLink);\n",
              "      }\n",
              "    </script>\n",
              "  </div>\n",
              "\n",
              "\n",
              "<div id=\"df-5e686d99-8914-46ed-be1e-ff12bceef4de\">\n",
              "  <button class=\"colab-df-quickchart\" onclick=\"quickchart('df-5e686d99-8914-46ed-be1e-ff12bceef4de')\"\n",
              "            title=\"Suggest charts\"\n",
              "            style=\"display:none;\">\n",
              "\n",
              "<svg xmlns=\"http://www.w3.org/2000/svg\" height=\"24px\"viewBox=\"0 0 24 24\"\n",
              "     width=\"24px\">\n",
              "    <g>\n",
              "        <path d=\"M19 3H5c-1.1 0-2 .9-2 2v14c0 1.1.9 2 2 2h14c1.1 0 2-.9 2-2V5c0-1.1-.9-2-2-2zM9 17H7v-7h2v7zm4 0h-2V7h2v10zm4 0h-2v-4h2v4z\"/>\n",
              "    </g>\n",
              "</svg>\n",
              "  </button>\n",
              "\n",
              "<style>\n",
              "  .colab-df-quickchart {\n",
              "      --bg-color: #E8F0FE;\n",
              "      --fill-color: #1967D2;\n",
              "      --hover-bg-color: #E2EBFA;\n",
              "      --hover-fill-color: #174EA6;\n",
              "      --disabled-fill-color: #AAA;\n",
              "      --disabled-bg-color: #DDD;\n",
              "  }\n",
              "\n",
              "  [theme=dark] .colab-df-quickchart {\n",
              "      --bg-color: #3B4455;\n",
              "      --fill-color: #D2E3FC;\n",
              "      --hover-bg-color: #434B5C;\n",
              "      --hover-fill-color: #FFFFFF;\n",
              "      --disabled-bg-color: #3B4455;\n",
              "      --disabled-fill-color: #666;\n",
              "  }\n",
              "\n",
              "  .colab-df-quickchart {\n",
              "    background-color: var(--bg-color);\n",
              "    border: none;\n",
              "    border-radius: 50%;\n",
              "    cursor: pointer;\n",
              "    display: none;\n",
              "    fill: var(--fill-color);\n",
              "    height: 32px;\n",
              "    padding: 0;\n",
              "    width: 32px;\n",
              "  }\n",
              "\n",
              "  .colab-df-quickchart:hover {\n",
              "    background-color: var(--hover-bg-color);\n",
              "    box-shadow: 0 1px 2px rgba(60, 64, 67, 0.3), 0 1px 3px 1px rgba(60, 64, 67, 0.15);\n",
              "    fill: var(--button-hover-fill-color);\n",
              "  }\n",
              "\n",
              "  .colab-df-quickchart-complete:disabled,\n",
              "  .colab-df-quickchart-complete:disabled:hover {\n",
              "    background-color: var(--disabled-bg-color);\n",
              "    fill: var(--disabled-fill-color);\n",
              "    box-shadow: none;\n",
              "  }\n",
              "\n",
              "  .colab-df-spinner {\n",
              "    border: 2px solid var(--fill-color);\n",
              "    border-color: transparent;\n",
              "    border-bottom-color: var(--fill-color);\n",
              "    animation:\n",
              "      spin 1s steps(1) infinite;\n",
              "  }\n",
              "\n",
              "  @keyframes spin {\n",
              "    0% {\n",
              "      border-color: transparent;\n",
              "      border-bottom-color: var(--fill-color);\n",
              "      border-left-color: var(--fill-color);\n",
              "    }\n",
              "    20% {\n",
              "      border-color: transparent;\n",
              "      border-left-color: var(--fill-color);\n",
              "      border-top-color: var(--fill-color);\n",
              "    }\n",
              "    30% {\n",
              "      border-color: transparent;\n",
              "      border-left-color: var(--fill-color);\n",
              "      border-top-color: var(--fill-color);\n",
              "      border-right-color: var(--fill-color);\n",
              "    }\n",
              "    40% {\n",
              "      border-color: transparent;\n",
              "      border-right-color: var(--fill-color);\n",
              "      border-top-color: var(--fill-color);\n",
              "    }\n",
              "    60% {\n",
              "      border-color: transparent;\n",
              "      border-right-color: var(--fill-color);\n",
              "    }\n",
              "    80% {\n",
              "      border-color: transparent;\n",
              "      border-right-color: var(--fill-color);\n",
              "      border-bottom-color: var(--fill-color);\n",
              "    }\n",
              "    90% {\n",
              "      border-color: transparent;\n",
              "      border-bottom-color: var(--fill-color);\n",
              "    }\n",
              "  }\n",
              "</style>\n",
              "\n",
              "  <script>\n",
              "    async function quickchart(key) {\n",
              "      const quickchartButtonEl =\n",
              "        document.querySelector('#' + key + ' button');\n",
              "      quickchartButtonEl.disabled = true;  // To prevent multiple clicks.\n",
              "      quickchartButtonEl.classList.add('colab-df-spinner');\n",
              "      try {\n",
              "        const charts = await google.colab.kernel.invokeFunction(\n",
              "            'suggestCharts', [key], {});\n",
              "      } catch (error) {\n",
              "        console.error('Error during call to suggestCharts:', error);\n",
              "      }\n",
              "      quickchartButtonEl.classList.remove('colab-df-spinner');\n",
              "      quickchartButtonEl.classList.add('colab-df-quickchart-complete');\n",
              "    }\n",
              "    (() => {\n",
              "      let quickchartButtonEl =\n",
              "        document.querySelector('#df-5e686d99-8914-46ed-be1e-ff12bceef4de button');\n",
              "      quickchartButtonEl.style.display =\n",
              "        google.colab.kernel.accessAllowed ? 'block' : 'none';\n",
              "    })();\n",
              "  </script>\n",
              "</div>\n",
              "    </div>\n",
              "  </div>\n"
            ],
            "text/plain": [
              "                                                   input  \\\n",
              "27911  What are some physical signs that may indicate...   \n",
              "7251   What is the name of the amino acid that serves...   \n",
              "32050  Do high or low potency typical antipsychotics ...   \n",
              "7969   Which type of heart valves are commonly affect...   \n",
              "6904   Among all bugs, which one is the most frequent...   \n",
              "\n",
              "                                                  output  \n",
              "27911  What are some physical signs that may indicate...  \n",
              "7251   Arginine is the amino acid that acts as the pr...  \n",
              "32050  High potency typical antipsychotics are more l...  \n",
              "7969   Viridans streptococci infection is typically s...  \n",
              "6904   Staphylococcus aureus is the bug that is the m...  "
            ]
          },
          "execution_count": 10,
          "metadata": {},
          "output_type": "execute_result"
        }
      ],
      "source": [
        "test_data.head()"
      ]
    },
    {
      "cell_type": "markdown",
      "metadata": {
        "id": "qILzRm2K890E"
      },
      "source": [
        "## Generate answers from the model"
      ]
    },
    {
      "cell_type": "code",
      "execution_count": null,
      "metadata": {
        "colab": {
          "base_uri": "https://localhost:8080/"
        },
        "id": "CnJxJUMhmAU3",
        "outputId": "e3042602-a432-4da7-bfe4-d132bb9d77e1"
      },
      "outputs": [
        {
          "name": "stdout",
          "output_type": "stream",
          "text": [
            "Processed question 1 out of 6791\n",
            "Processed question 2 out of 6791\n",
            "Processed question 3 out of 6791\n",
            "Processed question 4 out of 6791\n",
            "Processed question 5 out of 6791\n",
            "Processed question 6 out of 6791\n",
            "Processed question 7 out of 6791\n",
            "Processed question 8 out of 6791\n",
            "Processed question 9 out of 6791\n",
            "Processed question 10 out of 6791\n",
            "Processed question 11 out of 6791\n",
            "Processed question 12 out of 6791\n",
            "Processed question 13 out of 6791\n",
            "Processed question 14 out of 6791\n",
            "Processed question 15 out of 6791\n",
            "Processed question 16 out of 6791\n",
            "Processed question 17 out of 6791\n",
            "Processed question 18 out of 6791\n",
            "Processed question 19 out of 6791\n",
            "Processed question 20 out of 6791\n",
            "Processed question 21 out of 6791\n",
            "Processed question 22 out of 6791\n",
            "Processed question 23 out of 6791\n",
            "Processed question 24 out of 6791\n",
            "Processed question 25 out of 6791\n",
            "Processed question 26 out of 6791\n",
            "Processed question 27 out of 6791\n",
            "Processed question 28 out of 6791\n",
            "Processed question 29 out of 6791\n",
            "Processed question 30 out of 6791\n",
            "Processed question 31 out of 6791\n",
            "Processed question 32 out of 6791\n",
            "Processed question 33 out of 6791\n",
            "Processed question 34 out of 6791\n",
            "Processed question 35 out of 6791\n",
            "Processed question 36 out of 6791\n",
            "Processed question 37 out of 6791\n",
            "Processed question 38 out of 6791\n",
            "Processed question 39 out of 6791\n",
            "Processed question 40 out of 6791\n",
            "Processed question 41 out of 6791\n",
            "Processed question 42 out of 6791\n",
            "Processed question 43 out of 6791\n",
            "Processed question 44 out of 6791\n",
            "Processed question 45 out of 6791\n",
            "Processed question 46 out of 6791\n",
            "Processed question 47 out of 6791\n",
            "Processed question 48 out of 6791\n",
            "Processed question 49 out of 6791\n",
            "Processed question 50 out of 6791\n",
            "Processed question 51 out of 6791\n",
            "Processed question 52 out of 6791\n",
            "Processed question 53 out of 6791\n",
            "Processed question 54 out of 6791\n",
            "Processed question 55 out of 6791\n",
            "Processed question 56 out of 6791\n",
            "Processed question 57 out of 6791\n",
            "Processed question 58 out of 6791\n",
            "Processed question 59 out of 6791\n",
            "Processed question 60 out of 6791\n",
            "Processed question 61 out of 6791\n",
            "Processed question 62 out of 6791\n",
            "Processed question 63 out of 6791\n",
            "Processed question 64 out of 6791\n",
            "Processed question 65 out of 6791\n",
            "Processed question 66 out of 6791\n",
            "Processed question 67 out of 6791\n",
            "Processed question 68 out of 6791\n",
            "Processed question 69 out of 6791\n",
            "Processed question 70 out of 6791\n",
            "Processed question 71 out of 6791\n",
            "Processed question 72 out of 6791\n",
            "Processed question 73 out of 6791\n",
            "Processed question 74 out of 6791\n",
            "Processed question 75 out of 6791\n",
            "Processed question 76 out of 6791\n",
            "Processed question 77 out of 6791\n",
            "Processed question 78 out of 6791\n",
            "Processed question 79 out of 6791\n",
            "Processed question 80 out of 6791\n",
            "Processed question 81 out of 6791\n",
            "Processed question 82 out of 6791\n",
            "Processed question 83 out of 6791\n",
            "Processed question 84 out of 6791\n",
            "Processed question 85 out of 6791\n",
            "Processed question 86 out of 6791\n",
            "Processed question 87 out of 6791\n",
            "Processed question 88 out of 6791\n",
            "Processed question 89 out of 6791\n",
            "Processed question 90 out of 6791\n",
            "Processed question 91 out of 6791\n",
            "Processed question 92 out of 6791\n",
            "Processed question 93 out of 6791\n",
            "Processed question 94 out of 6791\n",
            "Processed question 95 out of 6791\n",
            "Processed question 96 out of 6791\n",
            "Processed question 97 out of 6791\n",
            "Processed question 98 out of 6791\n",
            "Processed question 99 out of 6791\n",
            "Processed question 100 out of 6791\n",
            "Processed question 101 out of 6791\n",
            "Processed question 102 out of 6791\n",
            "Processed question 103 out of 6791\n",
            "Processed question 104 out of 6791\n",
            "Processed question 105 out of 6791\n",
            "Processed question 106 out of 6791\n",
            "Processed question 107 out of 6791\n",
            "Processed question 108 out of 6791\n",
            "Processed question 109 out of 6791\n",
            "Processed question 110 out of 6791\n",
            "Processed question 111 out of 6791\n",
            "Processed question 112 out of 6791\n",
            "Processed question 113 out of 6791\n",
            "Processed question 114 out of 6791\n",
            "Processed question 115 out of 6791\n",
            "Processed question 116 out of 6791\n",
            "Processed question 117 out of 6791\n",
            "Processed question 118 out of 6791\n",
            "Processed question 119 out of 6791\n",
            "Processed question 120 out of 6791\n",
            "Processed question 121 out of 6791\n",
            "Processed question 122 out of 6791\n",
            "Processed question 123 out of 6791\n",
            "Processed question 124 out of 6791\n",
            "Processed question 125 out of 6791\n",
            "Processed question 126 out of 6791\n",
            "Processed question 127 out of 6791\n",
            "Processed question 128 out of 6791\n",
            "Processed question 129 out of 6791\n",
            "Processed question 130 out of 6791\n",
            "Processed question 131 out of 6791\n",
            "Processed question 132 out of 6791\n",
            "Processed question 133 out of 6791\n",
            "Processed question 134 out of 6791\n",
            "Processed question 135 out of 6791\n",
            "Processed question 136 out of 6791\n",
            "Processed question 137 out of 6791\n",
            "Processed question 138 out of 6791\n",
            "Processed question 139 out of 6791\n",
            "Processed question 140 out of 6791\n",
            "Processed question 141 out of 6791\n",
            "Processed question 142 out of 6791\n",
            "Processed question 143 out of 6791\n",
            "Processed question 144 out of 6791\n",
            "Processed question 145 out of 6791\n",
            "Processed question 146 out of 6791\n",
            "Processed question 147 out of 6791\n",
            "Processed question 148 out of 6791\n",
            "Processed question 149 out of 6791\n",
            "Processed question 150 out of 6791\n",
            "Processed question 151 out of 6791\n",
            "Processed question 152 out of 6791\n",
            "Processed question 153 out of 6791\n",
            "Processed question 154 out of 6791\n",
            "Processed question 155 out of 6791\n",
            "Processed question 156 out of 6791\n",
            "Processed question 157 out of 6791\n",
            "Processed question 158 out of 6791\n",
            "Processed question 159 out of 6791\n",
            "Processed question 160 out of 6791\n",
            "Processed question 161 out of 6791\n",
            "Processed question 162 out of 6791\n",
            "Processed question 163 out of 6791\n",
            "Processed question 164 out of 6791\n",
            "Processed question 165 out of 6791\n",
            "Processed question 166 out of 6791\n",
            "Processed question 167 out of 6791\n",
            "Processed question 168 out of 6791\n",
            "Processed question 169 out of 6791\n",
            "Processed question 170 out of 6791\n",
            "Processed question 171 out of 6791\n",
            "Processed question 172 out of 6791\n",
            "Processed question 173 out of 6791\n",
            "Processed question 174 out of 6791\n",
            "Processed question 175 out of 6791\n",
            "Processed question 176 out of 6791\n",
            "Processed question 177 out of 6791\n",
            "Processed question 178 out of 6791\n",
            "Processed question 179 out of 6791\n",
            "Processed question 180 out of 6791\n",
            "Processed question 181 out of 6791\n",
            "Processed question 182 out of 6791\n",
            "Processed question 183 out of 6791\n",
            "Processed question 184 out of 6791\n",
            "Processed question 185 out of 6791\n",
            "Processed question 186 out of 6791\n",
            "Processed question 187 out of 6791\n",
            "Processed question 188 out of 6791\n",
            "Processed question 189 out of 6791\n",
            "Processed question 190 out of 6791\n",
            "Processed question 191 out of 6791\n",
            "Processed question 192 out of 6791\n",
            "Processed question 193 out of 6791\n",
            "Processed question 194 out of 6791\n",
            "Processed question 195 out of 6791\n",
            "Processed question 196 out of 6791\n",
            "Processed question 197 out of 6791\n",
            "Processed question 198 out of 6791\n",
            "Processed question 199 out of 6791\n",
            "Processed question 200 out of 6791\n",
            "Processed question 201 out of 6791\n",
            "Processed question 202 out of 6791\n",
            "Processed question 203 out of 6791\n",
            "Processed question 204 out of 6791\n",
            "Processed question 205 out of 6791\n",
            "Processed question 206 out of 6791\n",
            "Processed question 207 out of 6791\n",
            "Processed question 208 out of 6791\n",
            "Processed question 209 out of 6791\n",
            "Processed question 210 out of 6791\n",
            "Processed question 211 out of 6791\n",
            "Processed question 212 out of 6791\n",
            "Processed question 213 out of 6791\n",
            "Processed question 214 out of 6791\n",
            "Processed question 215 out of 6791\n",
            "Processed question 216 out of 6791\n",
            "Processed question 217 out of 6791\n",
            "Processed question 218 out of 6791\n",
            "Processed question 219 out of 6791\n",
            "Processed question 220 out of 6791\n",
            "Processed question 221 out of 6791\n",
            "Processed question 222 out of 6791\n",
            "Processed question 223 out of 6791\n",
            "Processed question 224 out of 6791\n",
            "Processed question 225 out of 6791\n",
            "Processed question 226 out of 6791\n",
            "Processed question 227 out of 6791\n",
            "Processed question 228 out of 6791\n",
            "Processed question 229 out of 6791\n",
            "Processed question 230 out of 6791\n",
            "Processed question 231 out of 6791\n",
            "Processed question 232 out of 6791\n",
            "Processed question 233 out of 6791\n",
            "Processed question 234 out of 6791\n",
            "Processed question 235 out of 6791\n",
            "Processed question 236 out of 6791\n",
            "Processed question 237 out of 6791\n",
            "Processed question 238 out of 6791\n",
            "Processed question 239 out of 6791\n",
            "Processed question 240 out of 6791\n",
            "Processed question 241 out of 6791\n",
            "Processed question 242 out of 6791\n",
            "Processed question 243 out of 6791\n",
            "Processed question 244 out of 6791\n",
            "Processed question 245 out of 6791\n",
            "Processed question 246 out of 6791\n",
            "Processed question 247 out of 6791\n",
            "Processed question 248 out of 6791\n",
            "Processed question 249 out of 6791\n",
            "Processed question 250 out of 6791\n",
            "Processed question 251 out of 6791\n",
            "Processed question 252 out of 6791\n",
            "Processed question 253 out of 6791\n",
            "Processed question 254 out of 6791\n",
            "Processed question 255 out of 6791\n",
            "Processed question 256 out of 6791\n",
            "Processed question 257 out of 6791\n",
            "Processed question 258 out of 6791\n",
            "Processed question 259 out of 6791\n",
            "Processed question 260 out of 6791\n",
            "Processed question 261 out of 6791\n",
            "Processed question 262 out of 6791\n",
            "Processed question 263 out of 6791\n",
            "Processed question 264 out of 6791\n",
            "Processed question 265 out of 6791\n",
            "Processed question 266 out of 6791\n",
            "Processed question 267 out of 6791\n",
            "Processed question 268 out of 6791\n",
            "Processed question 269 out of 6791\n",
            "Processed question 270 out of 6791\n",
            "Processed question 271 out of 6791\n",
            "Processed question 272 out of 6791\n",
            "Processed question 273 out of 6791\n",
            "Processed question 274 out of 6791\n",
            "Processed question 275 out of 6791\n",
            "Processed question 276 out of 6791\n",
            "Processed question 277 out of 6791\n",
            "Processed question 278 out of 6791\n",
            "Processed question 279 out of 6791\n",
            "Processed question 280 out of 6791\n",
            "Processed question 281 out of 6791\n",
            "Processed question 282 out of 6791\n",
            "Processed question 283 out of 6791\n",
            "Processed question 284 out of 6791\n",
            "Processed question 285 out of 6791\n",
            "Processed question 286 out of 6791\n",
            "Processed question 287 out of 6791\n",
            "Processed question 288 out of 6791\n",
            "Processed question 289 out of 6791\n",
            "Processed question 290 out of 6791\n",
            "Processed question 291 out of 6791\n",
            "Processed question 292 out of 6791\n",
            "Processed question 293 out of 6791\n",
            "Processed question 294 out of 6791\n",
            "Processed question 295 out of 6791\n",
            "Processed question 296 out of 6791\n",
            "Processed question 297 out of 6791\n",
            "Processed question 298 out of 6791\n",
            "Processed question 299 out of 6791\n",
            "Processed question 300 out of 6791\n",
            "Processed question 301 out of 6791\n",
            "Processed question 302 out of 6791\n",
            "Processed question 303 out of 6791\n",
            "Processed question 304 out of 6791\n",
            "Processed question 305 out of 6791\n",
            "Processed question 306 out of 6791\n",
            "Processed question 307 out of 6791\n",
            "Processed question 308 out of 6791\n",
            "Processed question 309 out of 6791\n",
            "Processed question 310 out of 6791\n",
            "Processed question 311 out of 6791\n",
            "Processed question 312 out of 6791\n",
            "Processed question 313 out of 6791\n",
            "Processed question 314 out of 6791\n",
            "Processed question 315 out of 6791\n",
            "Processed question 316 out of 6791\n",
            "Processed question 317 out of 6791\n",
            "Processed question 318 out of 6791\n",
            "Processed question 319 out of 6791\n",
            "Processed question 320 out of 6791\n",
            "Processed question 321 out of 6791\n",
            "Processed question 322 out of 6791\n",
            "Processed question 323 out of 6791\n",
            "Processed question 324 out of 6791\n",
            "Processed question 325 out of 6791\n",
            "Processed question 326 out of 6791\n",
            "Processed question 327 out of 6791\n",
            "Processed question 328 out of 6791\n",
            "Processed question 329 out of 6791\n",
            "Processed question 330 out of 6791\n",
            "Processed question 331 out of 6791\n",
            "Processed question 332 out of 6791\n",
            "Processed question 333 out of 6791\n",
            "Processed question 334 out of 6791\n",
            "Processed question 335 out of 6791\n",
            "Processed question 336 out of 6791\n",
            "Processed question 337 out of 6791\n",
            "Processed question 338 out of 6791\n",
            "Processed question 339 out of 6791\n",
            "Processed question 340 out of 6791\n",
            "Processed question 341 out of 6791\n",
            "Processed question 342 out of 6791\n",
            "Processed question 343 out of 6791\n",
            "Processed question 344 out of 6791\n",
            "Processed question 345 out of 6791\n",
            "Processed question 346 out of 6791\n",
            "Processed question 347 out of 6791\n",
            "Processed question 348 out of 6791\n",
            "Processed question 349 out of 6791\n",
            "Processed question 350 out of 6791\n",
            "Processed question 351 out of 6791\n",
            "Processed question 352 out of 6791\n",
            "Processed question 353 out of 6791\n",
            "Processed question 354 out of 6791\n",
            "Processed question 355 out of 6791\n",
            "Processed question 356 out of 6791\n",
            "Processed question 357 out of 6791\n",
            "Processed question 358 out of 6791\n",
            "Processed question 359 out of 6791\n",
            "Processed question 360 out of 6791\n",
            "Processed question 361 out of 6791\n",
            "Processed question 362 out of 6791\n",
            "Processed question 363 out of 6791\n",
            "Processed question 364 out of 6791\n",
            "Processed question 365 out of 6791\n",
            "Processed question 366 out of 6791\n",
            "Processed question 367 out of 6791\n",
            "Processed question 368 out of 6791\n",
            "Processed question 369 out of 6791\n",
            "Processed question 370 out of 6791\n",
            "Processed question 371 out of 6791\n",
            "Processed question 372 out of 6791\n",
            "Processed question 373 out of 6791\n",
            "Processed question 374 out of 6791\n",
            "Processed question 375 out of 6791\n",
            "Processed question 376 out of 6791\n",
            "Processed question 377 out of 6791\n",
            "Processed question 378 out of 6791\n",
            "Processed question 379 out of 6791\n",
            "Processed question 380 out of 6791\n",
            "Processed question 381 out of 6791\n",
            "Processed question 382 out of 6791\n",
            "Processed question 383 out of 6791\n",
            "Processed question 384 out of 6791\n",
            "Processed question 385 out of 6791\n",
            "Processed question 386 out of 6791\n",
            "Processed question 387 out of 6791\n",
            "Processed question 388 out of 6791\n",
            "Processed question 389 out of 6791\n",
            "Processed question 390 out of 6791\n",
            "Processed question 391 out of 6791\n",
            "Processed question 392 out of 6791\n",
            "Processed question 393 out of 6791\n",
            "Processed question 394 out of 6791\n",
            "Processed question 395 out of 6791\n",
            "Processed question 396 out of 6791\n",
            "Processed question 397 out of 6791\n",
            "Processed question 398 out of 6791\n",
            "Processed question 399 out of 6791\n",
            "Processed question 400 out of 6791\n",
            "Processed question 401 out of 6791\n",
            "Processed question 402 out of 6791\n",
            "Processed question 403 out of 6791\n",
            "Processed question 404 out of 6791\n",
            "Processed question 405 out of 6791\n",
            "Processed question 406 out of 6791\n",
            "Processed question 407 out of 6791\n",
            "Processed question 408 out of 6791\n",
            "Processed question 409 out of 6791\n",
            "Processed question 410 out of 6791\n",
            "Processed question 411 out of 6791\n",
            "Processed question 412 out of 6791\n",
            "Processed question 413 out of 6791\n",
            "Processed question 414 out of 6791\n",
            "Processed question 415 out of 6791\n",
            "Processed question 416 out of 6791\n",
            "Processed question 417 out of 6791\n",
            "Processed question 418 out of 6791\n",
            "Processed question 419 out of 6791\n",
            "Processed question 420 out of 6791\n",
            "Processed question 421 out of 6791\n",
            "Processed question 422 out of 6791\n",
            "Processed question 423 out of 6791\n",
            "Processed question 424 out of 6791\n",
            "Processed question 425 out of 6791\n",
            "Processed question 426 out of 6791\n",
            "Processed question 427 out of 6791\n",
            "Processed question 428 out of 6791\n",
            "Processed question 429 out of 6791\n",
            "Processed question 430 out of 6791\n",
            "Processed question 431 out of 6791\n",
            "Processed question 432 out of 6791\n",
            "Processed question 433 out of 6791\n",
            "Processed question 434 out of 6791\n",
            "Processed question 435 out of 6791\n",
            "Processed question 436 out of 6791\n",
            "Processed question 437 out of 6791\n",
            "Processed question 438 out of 6791\n",
            "Processed question 439 out of 6791\n",
            "Processed question 440 out of 6791\n",
            "Processed question 441 out of 6791\n",
            "Processed question 442 out of 6791\n",
            "Processed question 443 out of 6791\n",
            "Processed question 444 out of 6791\n",
            "Processed question 445 out of 6791\n",
            "Processed question 446 out of 6791\n",
            "Processed question 447 out of 6791\n",
            "Processed question 448 out of 6791\n",
            "Processed question 449 out of 6791\n",
            "Processed question 450 out of 6791\n",
            "Processed question 451 out of 6791\n",
            "Processed question 452 out of 6791\n",
            "Processed question 453 out of 6791\n",
            "Processed question 454 out of 6791\n",
            "Processed question 455 out of 6791\n",
            "Processed question 456 out of 6791\n",
            "Processed question 457 out of 6791\n",
            "Processed question 458 out of 6791\n",
            "Processed question 459 out of 6791\n",
            "Processed question 460 out of 6791\n",
            "Processed question 461 out of 6791\n",
            "Processed question 462 out of 6791\n",
            "Processed question 463 out of 6791\n",
            "Processed question 464 out of 6791\n",
            "Processed question 465 out of 6791\n",
            "Processed question 466 out of 6791\n",
            "Processed question 467 out of 6791\n",
            "Processed question 468 out of 6791\n",
            "Processed question 469 out of 6791\n",
            "Processed question 470 out of 6791\n",
            "Processed question 471 out of 6791\n",
            "Processed question 472 out of 6791\n",
            "Processed question 473 out of 6791\n",
            "Processed question 474 out of 6791\n",
            "Processed question 475 out of 6791\n",
            "Processed question 476 out of 6791\n",
            "Processed question 477 out of 6791\n",
            "Processed question 478 out of 6791\n",
            "Processed question 479 out of 6791\n",
            "Processed question 480 out of 6791\n",
            "Processed question 481 out of 6791\n",
            "Processed question 482 out of 6791\n",
            "Processed question 483 out of 6791\n",
            "Processed question 484 out of 6791\n",
            "Processed question 485 out of 6791\n",
            "Processed question 486 out of 6791\n",
            "Processed question 487 out of 6791\n",
            "Processed question 488 out of 6791\n",
            "Processed question 489 out of 6791\n",
            "Processed question 490 out of 6791\n",
            "Processed question 491 out of 6791\n",
            "Processed question 492 out of 6791\n",
            "Processed question 493 out of 6791\n",
            "Processed question 494 out of 6791\n",
            "Processed question 495 out of 6791\n",
            "Processed question 496 out of 6791\n",
            "Processed question 497 out of 6791\n",
            "Processed question 498 out of 6791\n",
            "Processed question 499 out of 6791\n",
            "Processed question 500 out of 6791\n"
          ]
        }
      ],
      "source": [
        "def generate_answer(question):\n",
        "    prompt = question + \" ->\"\n",
        "    response = openai.Completion.create(\n",
        "        model='ft:davinci-002:personal::9KLi6nKN',\n",
        "        prompt=prompt,\n",
        "        max_tokens=100,\n",
        "        top_p=0.9,\n",
        "        frequency_penalty=2,\n",
        "        presence_penalty=1,\n",
        "        stop=[\"\\n\"]\n",
        "    )\n",
        "    return response.choices[0].text\n",
        "\n",
        "total_questions = len(test_data)\n",
        "predictions = []\n",
        "count = 0\n",
        "for index, row in test_data.iterrows():\n",
        "    if count >= 500:\n",
        "        break\n",
        "    print(f\"Processed question {count + 1} out of {total_questions}\")\n",
        "    question = row[\"input\"]\n",
        "    predicted_answer = generate_answer(question)\n",
        "    predictions.append(predicted_answer)\n",
        "    count = count + 1"
      ]
    },
    {
      "cell_type": "markdown",
      "metadata": {
        "id": "wbbDs8Gx9Kst"
      },
      "source": [
        "## Compute some metrics"
      ]
    },
    {
      "cell_type": "code",
      "execution_count": null,
      "metadata": {
        "id": "_nr9IMys4qF9"
      },
      "outputs": [],
      "source": [
        "# Get answers frmo the dataset\n",
        "count = 0\n",
        "references = []\n",
        "for index, row in test_data.iterrows():\n",
        "    if count >= 500:\n",
        "        break\n",
        "    count = count + 1\n",
        "    references.append(row[\"output\"])"
      ]
    },
    {
      "cell_type": "code",
      "execution_count": null,
      "metadata": {
        "colab": {
          "base_uri": "https://localhost:8080/"
        },
        "id": "-yt8pRP67k1b",
        "outputId": "414c0a08-93cd-4fc4-8db2-4030a0395d0c"
      },
      "outputs": [
        {
          "name": "stderr",
          "output_type": "stream",
          "text": [
            "/usr/local/lib/python3.10/dist-packages/huggingface_hub/file_download.py:1132: FutureWarning: `resume_download` is deprecated and will be removed in version 1.0.0. Downloads always resume when possible. If you want to force a new download, use `force_download=True`.\n",
            "  warnings.warn(\n"
          ]
        }
      ],
      "source": [
        "# Load a pre-trained model\n",
        "model = SentenceTransformer('paraphrase-MiniLM-L6-v2')\n",
        "\n",
        "# Compute embeddings\n",
        "reference_embeddings = model.encode(references)\n",
        "prediction_embeddings = model.encode(predictions)"
      ]
    },
    {
      "cell_type": "code",
      "execution_count": null,
      "metadata": {
        "colab": {
          "base_uri": "https://localhost:8080/"
        },
        "id": "Zx1Imktl9AgX",
        "outputId": "7fc25855-f29e-496d-8d29-e3db24bb9ab8"
      },
      "outputs": [
        {
          "name": "stdout",
          "output_type": "stream",
          "text": [
            "Reference embeddings shape: (500, 384)\n",
            "Prediction embeddings shape: (500, 384)\n"
          ]
        }
      ],
      "source": [
        "# Log the shape of the embeddings for debugging\n",
        "print(f\"Reference embeddings shape: {np.array(reference_embeddings).shape}\")\n",
        "print(f\"Prediction embeddings shape: {np.array(prediction_embeddings).shape}\")"
      ]
    },
    {
      "cell_type": "markdown",
      "metadata": {
        "id": "fmUEYKey9QMM"
      },
      "source": [
        "### Cosine Similarity"
      ]
    },
    {
      "cell_type": "code",
      "execution_count": null,
      "metadata": {
        "id": "8UIpbFdOoFi6"
      },
      "outputs": [],
      "source": [
        "# Compute cosine similarity for each pair\n",
        "cosine_similarities = []\n",
        "for ref_emb, pred_emb in zip(reference_embeddings, prediction_embeddings):\n",
        "    cos_sim = cosine_similarity([ref_emb], [pred_emb])[0][0]\n",
        "    cosine_similarities.append(cos_sim)"
      ]
    },
    {
      "cell_type": "code",
      "execution_count": null,
      "metadata": {
        "colab": {
          "base_uri": "https://localhost:8080/"
        },
        "id": "uuDbpjjd7u1G",
        "outputId": "a86aaf8d-161b-488b-aa7d-4037de56d55f"
      },
      "outputs": [
        {
          "name": "stdout",
          "output_type": "stream",
          "text": [
            "Average Cosine Similarity: 0.78\n"
          ]
        }
      ],
      "source": [
        "# Calculate average cosine similarity\n",
        "average_cosine_similarity = np.mean(cosine_similarities)\n",
        "print(f'Average Cosine Similarity: {average_cosine_similarity:.2f}')"
      ]
    },
    {
      "cell_type": "markdown",
      "metadata": {
        "id": "vNkX0fY29S3N"
      },
      "source": [
        "### BLEU Score"
      ]
    },
    {
      "cell_type": "code",
      "execution_count": null,
      "metadata": {
        "id": "GbtSu6EqJiDi"
      },
      "outputs": [],
      "source": [
        "# Function to calculate BLEU score\n",
        "def calculate_bleu(reference, prediction):\n",
        "    reference_tokens = [nltk.word_tokenize(reference)]\n",
        "    prediction_tokens = nltk.word_tokenize(prediction)\n",
        "    # Using smoothing function to avoid zero scores for short sequences\n",
        "    smoothing_function = SmoothingFunction().method1\n",
        "    bleu_score = sentence_bleu(reference_tokens, prediction_tokens, smoothing_function=smoothing_function)\n",
        "    return bleu_score"
      ]
    },
    {
      "cell_type": "code",
      "execution_count": null,
      "metadata": {
        "colab": {
          "base_uri": "https://localhost:8080/"
        },
        "id": "hwoUp0AzJu3e",
        "outputId": "46e32bda-7a3b-4172-bc45-3583f0be2a78"
      },
      "outputs": [
        {
          "name": "stderr",
          "output_type": "stream",
          "text": [
            "[nltk_data] Downloading package punkt to /root/nltk_data...\n",
            "[nltk_data]   Unzipping tokenizers/punkt.zip.\n"
          ]
        },
        {
          "data": {
            "text/plain": [
              "True"
            ]
          },
          "execution_count": 64,
          "metadata": {},
          "output_type": "execute_result"
        }
      ],
      "source": [
        "# Ensure NLTK resources are downloaded\n",
        "nltk.download('punkt')"
      ]
    },
    {
      "cell_type": "code",
      "execution_count": null,
      "metadata": {
        "id": "O5AZ6gEMJkLR"
      },
      "outputs": [],
      "source": [
        "# Calculate BLEU scores for all predictions\n",
        "bleu_scores = [calculate_bleu(ref, pred) for ref, pred in zip(references, predictions)]"
      ]
    },
    {
      "cell_type": "code",
      "execution_count": null,
      "metadata": {
        "colab": {
          "base_uri": "https://localhost:8080/"
        },
        "id": "2hJVDUK2JyBb",
        "outputId": "7a725669-e329-48e2-c0a4-7fc716ce845c"
      },
      "outputs": [
        {
          "name": "stdout",
          "output_type": "stream",
          "text": [
            "Average BLEU Score: 0.15\n"
          ]
        }
      ],
      "source": [
        "# Calculate average BLEU score\n",
        "average_bleu_score = sum(bleu_scores) / len(bleu_scores)\n",
        "print(f'Average BLEU Score: {average_bleu_score:.2f}')"
      ]
    },
    {
      "cell_type": "markdown",
      "metadata": {
        "id": "C_-bt9vZ9U6l"
      },
      "source": [
        "### Exact Match"
      ]
    },
    {
      "cell_type": "code",
      "execution_count": null,
      "metadata": {
        "colab": {
          "base_uri": "https://localhost:8080/"
        },
        "id": "2Js5Vr5pKrvB",
        "outputId": "08721c86-e3c9-4dca-963b-501979f4b79c"
      },
      "outputs": [
        {
          "name": "stdout",
          "output_type": "stream",
          "text": [
            "Exact Match Score: 0.00\n"
          ]
        }
      ],
      "source": [
        "def exact_match(prediction, ground_truth):\n",
        "    return prediction == ground_truth\n",
        "\n",
        "# Assuming predictions and references are lists of answers\n",
        "em_score = sum(exact_match(pred, ref) for pred, ref in zip(predictions, references)) / len(predictions)\n",
        "print(f'Exact Match Score: {em_score:.2f}')"
      ]
    },
    {
      "cell_type": "markdown",
      "metadata": {
        "id": "J6UyyA1P9X7H"
      },
      "source": [
        "### F1 Score"
      ]
    },
    {
      "cell_type": "code",
      "execution_count": null,
      "metadata": {
        "colab": {
          "base_uri": "https://localhost:8080/"
        },
        "id": "QiBNLj3nKutM",
        "outputId": "af58b4da-0f55-495e-e2cf-1aad05f7bd7a"
      },
      "outputs": [
        {
          "name": "stdout",
          "output_type": "stream",
          "text": [
            "Average F1 Score: 0.36\n"
          ]
        }
      ],
      "source": [
        "from collections import Counter\n",
        "\n",
        "def f1_score(prediction, ground_truth):\n",
        "    pred_tokens = prediction.split()\n",
        "    ground_truth_tokens = ground_truth.split()\n",
        "    common_tokens = Counter(pred_tokens) & Counter(ground_truth_tokens)\n",
        "    num_common = sum(common_tokens.values())\n",
        "\n",
        "    if num_common == 0:\n",
        "        return 0.0\n",
        "\n",
        "    precision = num_common / len(pred_tokens)\n",
        "    recall = num_common / len(ground_truth_tokens)\n",
        "    f1 = 2 * (precision * recall) / (precision + recall)\n",
        "    return f1\n",
        "\n",
        "f1_scores = [f1_score(pred, ref) for pred, ref in zip(predictions, references)]\n",
        "average_f1_score = sum(f1_scores) / len(f1_scores)\n",
        "print(f'Average F1 Score: {average_f1_score:.2f}')"
      ]
    },
    {
      "cell_type": "markdown",
      "metadata": {
        "id": "m5CmVviy9bEy"
      },
      "source": [
        "# Manual checking with random question from test dataset"
      ]
    },
    {
      "cell_type": "code",
      "execution_count": null,
      "metadata": {
        "colab": {
          "base_uri": "https://localhost:8080/"
        },
        "id": "aqyjSbIURAZF",
        "outputId": "30bd072f-5825-460d-bd7c-91a1ccc28f4f"
      },
      "outputs": [
        {
          "name": "stdout",
          "output_type": "stream",
          "text": [
            "*************************************\n",
            "Question:  How can low doses of dopamine impact renal blood flow (RBF)? ->\n",
            "Actual Answer: Low doses of dopamine can cause an increase in RBF.\n",
            "Bot Answer:   Low doses of dopamine can have either an increase or no effect on RBF..\n"
          ]
        }
      ],
      "source": [
        "import random\n",
        "\n",
        "# Assuming you have a pandas DataFrame named test_data containing your test dataset\n",
        "random_index = random.randint(0, len(test_data) - 1)\n",
        "random_row = test_data.iloc[random_index]\n",
        "prompt = random_row[\"input\"] + \" ->\"\n",
        "actual_answer = random_row[\"output\"]\n",
        "\n",
        "response = openai.Completion.create(\n",
        "    model='ft:davinci-002:personal::9KLi6nKN',\n",
        "    prompt=prompt,\n",
        "    max_tokens=100,\n",
        "    top_p=1,\n",
        "    frequency_penalty=1,\n",
        "    presence_penalty=1,\n",
        "    stop=[\"\\n\"]\n",
        ")\n",
        "\n",
        "print('*************************************')\n",
        "print('Question: ', prompt)\n",
        "print('Actual Answer:', actual_answer)\n",
        "print('Bot Answer: ', response.choices[0].text)\n"
      ]
    }
  ],
  "metadata": {
    "colab": {
      "provenance": [],
      "toc_visible": true
    },
    "kernelspec": {
      "display_name": "Python 3",
      "name": "python3"
    },
    "language_info": {
      "name": "python"
    },
    "widgets": {
      "application/vnd.jupyter.widget-state+json": {
        "2142acae930046988902ebd879a920b1": {
          "model_module": "@jupyter-widgets/base",
          "model_module_version": "1.2.0",
          "model_name": "LayoutModel",
          "state": {
            "_model_module": "@jupyter-widgets/base",
            "_model_module_version": "1.2.0",
            "_model_name": "LayoutModel",
            "_view_count": null,
            "_view_module": "@jupyter-widgets/base",
            "_view_module_version": "1.2.0",
            "_view_name": "LayoutView",
            "align_content": null,
            "align_items": null,
            "align_self": null,
            "border": null,
            "bottom": null,
            "display": null,
            "flex": null,
            "flex_flow": null,
            "grid_area": null,
            "grid_auto_columns": null,
            "grid_auto_flow": null,
            "grid_auto_rows": null,
            "grid_column": null,
            "grid_gap": null,
            "grid_row": null,
            "grid_template_areas": null,
            "grid_template_columns": null,
            "grid_template_rows": null,
            "height": null,
            "justify_content": null,
            "justify_items": null,
            "left": null,
            "margin": null,
            "max_height": null,
            "max_width": null,
            "min_height": null,
            "min_width": null,
            "object_fit": null,
            "object_position": null,
            "order": null,
            "overflow": null,
            "overflow_x": null,
            "overflow_y": null,
            "padding": null,
            "right": null,
            "top": null,
            "visibility": null,
            "width": null
          }
        },
        "439519e6993240a4827420b3b880840c": {
          "model_module": "@jupyter-widgets/controls",
          "model_module_version": "1.5.0",
          "model_name": "DescriptionStyleModel",
          "state": {
            "_model_module": "@jupyter-widgets/controls",
            "_model_module_version": "1.5.0",
            "_model_name": "DescriptionStyleModel",
            "_view_count": null,
            "_view_module": "@jupyter-widgets/base",
            "_view_module_version": "1.2.0",
            "_view_name": "StyleView",
            "description_width": ""
          }
        },
        "4824f586113042efa219bfa1727c27e8": {
          "model_module": "@jupyter-widgets/controls",
          "model_module_version": "1.5.0",
          "model_name": "HTMLModel",
          "state": {
            "_dom_classes": [],
            "_model_module": "@jupyter-widgets/controls",
            "_model_module_version": "1.5.0",
            "_model_name": "HTMLModel",
            "_view_count": null,
            "_view_module": "@jupyter-widgets/controls",
            "_view_module_version": "1.5.0",
            "_view_name": "HTMLView",
            "description": "",
            "description_tooltip": null,
            "layout": "IPY_MODEL_2142acae930046988902ebd879a920b1",
            "placeholder": "​",
            "style": "IPY_MODEL_d63bb1caea134834b66824256487ecce",
            "value": "Generating train split: "
          }
        },
        "7d11d7c7e517466db81025d20edf8934": {
          "model_module": "@jupyter-widgets/base",
          "model_module_version": "1.2.0",
          "model_name": "LayoutModel",
          "state": {
            "_model_module": "@jupyter-widgets/base",
            "_model_module_version": "1.2.0",
            "_model_name": "LayoutModel",
            "_view_count": null,
            "_view_module": "@jupyter-widgets/base",
            "_view_module_version": "1.2.0",
            "_view_name": "LayoutView",
            "align_content": null,
            "align_items": null,
            "align_self": null,
            "border": null,
            "bottom": null,
            "display": null,
            "flex": null,
            "flex_flow": null,
            "grid_area": null,
            "grid_auto_columns": null,
            "grid_auto_flow": null,
            "grid_auto_rows": null,
            "grid_column": null,
            "grid_gap": null,
            "grid_row": null,
            "grid_template_areas": null,
            "grid_template_columns": null,
            "grid_template_rows": null,
            "height": null,
            "justify_content": null,
            "justify_items": null,
            "left": null,
            "margin": null,
            "max_height": null,
            "max_width": null,
            "min_height": null,
            "min_width": null,
            "object_fit": null,
            "object_position": null,
            "order": null,
            "overflow": null,
            "overflow_x": null,
            "overflow_y": null,
            "padding": null,
            "right": null,
            "top": null,
            "visibility": null,
            "width": null
          }
        },
        "bcc4cfd68afd47bcb036add6b35ddc1e": {
          "model_module": "@jupyter-widgets/base",
          "model_module_version": "1.2.0",
          "model_name": "LayoutModel",
          "state": {
            "_model_module": "@jupyter-widgets/base",
            "_model_module_version": "1.2.0",
            "_model_name": "LayoutModel",
            "_view_count": null,
            "_view_module": "@jupyter-widgets/base",
            "_view_module_version": "1.2.0",
            "_view_name": "LayoutView",
            "align_content": null,
            "align_items": null,
            "align_self": null,
            "border": null,
            "bottom": null,
            "display": null,
            "flex": null,
            "flex_flow": null,
            "grid_area": null,
            "grid_auto_columns": null,
            "grid_auto_flow": null,
            "grid_auto_rows": null,
            "grid_column": null,
            "grid_gap": null,
            "grid_row": null,
            "grid_template_areas": null,
            "grid_template_columns": null,
            "grid_template_rows": null,
            "height": null,
            "justify_content": null,
            "justify_items": null,
            "left": null,
            "margin": null,
            "max_height": null,
            "max_width": null,
            "min_height": null,
            "min_width": null,
            "object_fit": null,
            "object_position": null,
            "order": null,
            "overflow": null,
            "overflow_x": null,
            "overflow_y": null,
            "padding": null,
            "right": null,
            "top": null,
            "visibility": null,
            "width": null
          }
        },
        "c8f9fce0b44a4d69a825de01f87cbdd0": {
          "model_module": "@jupyter-widgets/controls",
          "model_module_version": "1.5.0",
          "model_name": "HBoxModel",
          "state": {
            "_dom_classes": [],
            "_model_module": "@jupyter-widgets/controls",
            "_model_module_version": "1.5.0",
            "_model_name": "HBoxModel",
            "_view_count": null,
            "_view_module": "@jupyter-widgets/controls",
            "_view_module_version": "1.5.0",
            "_view_name": "HBoxView",
            "box_style": "",
            "children": [
              "IPY_MODEL_4824f586113042efa219bfa1727c27e8",
              "IPY_MODEL_f27e48e2a0ce4f12b20e97366420924e",
              "IPY_MODEL_d03a750452124c7f9a0ce24481fc460f"
            ],
            "layout": "IPY_MODEL_7d11d7c7e517466db81025d20edf8934"
          }
        },
        "d03a750452124c7f9a0ce24481fc460f": {
          "model_module": "@jupyter-widgets/controls",
          "model_module_version": "1.5.0",
          "model_name": "HTMLModel",
          "state": {
            "_dom_classes": [],
            "_model_module": "@jupyter-widgets/controls",
            "_model_module_version": "1.5.0",
            "_model_name": "HTMLModel",
            "_view_count": null,
            "_view_module": "@jupyter-widgets/controls",
            "_view_module_version": "1.5.0",
            "_view_name": "HTMLView",
            "description": "",
            "description_tooltip": null,
            "layout": "IPY_MODEL_bcc4cfd68afd47bcb036add6b35ddc1e",
            "placeholder": "​",
            "style": "IPY_MODEL_439519e6993240a4827420b3b880840c",
            "value": " 33955/0 [00:00&lt;00:00, 37619.16 examples/s]"
          }
        },
        "d63bb1caea134834b66824256487ecce": {
          "model_module": "@jupyter-widgets/controls",
          "model_module_version": "1.5.0",
          "model_name": "DescriptionStyleModel",
          "state": {
            "_model_module": "@jupyter-widgets/controls",
            "_model_module_version": "1.5.0",
            "_model_name": "DescriptionStyleModel",
            "_view_count": null,
            "_view_module": "@jupyter-widgets/base",
            "_view_module_version": "1.2.0",
            "_view_name": "StyleView",
            "description_width": ""
          }
        },
        "e16fb8818d144b518569f517f59b221b": {
          "model_module": "@jupyter-widgets/base",
          "model_module_version": "1.2.0",
          "model_name": "LayoutModel",
          "state": {
            "_model_module": "@jupyter-widgets/base",
            "_model_module_version": "1.2.0",
            "_model_name": "LayoutModel",
            "_view_count": null,
            "_view_module": "@jupyter-widgets/base",
            "_view_module_version": "1.2.0",
            "_view_name": "LayoutView",
            "align_content": null,
            "align_items": null,
            "align_self": null,
            "border": null,
            "bottom": null,
            "display": null,
            "flex": null,
            "flex_flow": null,
            "grid_area": null,
            "grid_auto_columns": null,
            "grid_auto_flow": null,
            "grid_auto_rows": null,
            "grid_column": null,
            "grid_gap": null,
            "grid_row": null,
            "grid_template_areas": null,
            "grid_template_columns": null,
            "grid_template_rows": null,
            "height": null,
            "justify_content": null,
            "justify_items": null,
            "left": null,
            "margin": null,
            "max_height": null,
            "max_width": null,
            "min_height": null,
            "min_width": null,
            "object_fit": null,
            "object_position": null,
            "order": null,
            "overflow": null,
            "overflow_x": null,
            "overflow_y": null,
            "padding": null,
            "right": null,
            "top": null,
            "visibility": null,
            "width": "20px"
          }
        },
        "efc3bf4349d74bceb34ab710650d7aa9": {
          "model_module": "@jupyter-widgets/controls",
          "model_module_version": "1.5.0",
          "model_name": "ProgressStyleModel",
          "state": {
            "_model_module": "@jupyter-widgets/controls",
            "_model_module_version": "1.5.0",
            "_model_name": "ProgressStyleModel",
            "_view_count": null,
            "_view_module": "@jupyter-widgets/base",
            "_view_module_version": "1.2.0",
            "_view_name": "StyleView",
            "bar_color": null,
            "description_width": ""
          }
        },
        "f27e48e2a0ce4f12b20e97366420924e": {
          "model_module": "@jupyter-widgets/controls",
          "model_module_version": "1.5.0",
          "model_name": "FloatProgressModel",
          "state": {
            "_dom_classes": [],
            "_model_module": "@jupyter-widgets/controls",
            "_model_module_version": "1.5.0",
            "_model_name": "FloatProgressModel",
            "_view_count": null,
            "_view_module": "@jupyter-widgets/controls",
            "_view_module_version": "1.5.0",
            "_view_name": "ProgressView",
            "bar_style": "success",
            "description": "",
            "description_tooltip": null,
            "layout": "IPY_MODEL_e16fb8818d144b518569f517f59b221b",
            "max": 1,
            "min": 0,
            "orientation": "horizontal",
            "style": "IPY_MODEL_efc3bf4349d74bceb34ab710650d7aa9",
            "value": 1
          }
        }
      }
    }
  },
  "nbformat": 4,
  "nbformat_minor": 0
}
