{
  "metadata": {
    "kernelspec": {
      "language": "python",
      "display_name": "Python 3",
      "name": "python3"
    },
    "language_info": {
      "name": "python",
      "version": "3.10.13",
      "mimetype": "text/x-python",
      "codemirror_mode": {
        "name": "ipython",
        "version": 3
      },
      "pygments_lexer": "ipython3",
      "nbconvert_exporter": "python",
      "file_extension": ".py"
    },
    "kaggle": {
      "accelerator": "nvidiaTeslaT4",
      "dataSources": [
        {
          "sourceId": 8513638,
          "sourceType": "datasetVersion",
          "datasetId": 5082531
        }
      ],
      "dockerImageVersionId": 30699,
      "isInternetEnabled": true,
      "language": "python",
      "sourceType": "notebook",
      "isGpuEnabled": true
    },
    "colab": {
      "provenance": [],
      "toc_visible": true
    }
  },
  "nbformat_minor": 0,
  "nbformat": 4,
  "cells": [
    {
      "cell_type": "markdown",
      "source": [
        "\n",
        "\n",
        "\n",
        "# Libraries"
      ],
      "metadata": {
        "id": "qCa5ICs1pvdn"
      }
    },
    {
      "cell_type": "code",
      "source": [
        "# Install necessary libraries\n",
        "!pip install -U -q transformers datasets peft accelerate bitsandbytes evaluate rouge_score"
      ],
      "metadata": {
        "_uuid": "8f2839f25d086af736a60e9eeb907d3b93b6e0e5",
        "_cell_guid": "b1076dfc-b9ad-4769-8c92-a6c4dae69d19",
        "execution": {
          "iopub.status.busy": "2024-05-25T12:30:47.721461Z",
          "iopub.execute_input": "2024-05-25T12:30:47.721705Z",
          "iopub.status.idle": "2024-05-25T12:31:21.890671Z",
          "shell.execute_reply.started": "2024-05-25T12:30:47.721681Z",
          "shell.execute_reply": "2024-05-25T12:31:21.889474Z"
        },
        "trusted": true,
        "id": "hJb1xjEhprDC"
      },
      "execution_count": null,
      "outputs": []
    },
    {
      "cell_type": "code",
      "source": [
        "# To ignore warnings\n",
        "import warnings, re\n",
        "warnings.filterwarnings('ignore')"
      ],
      "metadata": {
        "execution": {
          "iopub.status.busy": "2024-05-25T12:31:27.982505Z",
          "iopub.execute_input": "2024-05-25T12:31:27.983356Z",
          "iopub.status.idle": "2024-05-25T12:31:27.987684Z",
          "shell.execute_reply.started": "2024-05-25T12:31:27.983316Z",
          "shell.execute_reply": "2024-05-25T12:31:27.986795Z"
        },
        "trusted": true,
        "id": "XS-3AUCUprDH"
      },
      "execution_count": null,
      "outputs": []
    },
    {
      "cell_type": "code",
      "source": [
        "# Import necessary libraries\n",
        "import numpy as np\n",
        "import pandas as pd\n",
        "import matplotlib.pyplot as plt\n",
        "import seaborn as sns\n",
        "import torch\n",
        "from sklearn.model_selection import train_test_split\n",
        "from sklearn.feature_extraction.text import TfidfVectorizer\n",
        "from transformers import T5ForQuestionAnswering,T5ForConditionalGeneration, T5Tokenizer, DataCollatorForSeq2Seq,pipeline,AutoTokenizer, AutoModelForSequenceClassification, AutoModelForSeq2SeqLM, Seq2SeqTrainingArguments, Seq2SeqTrainer, BitsAndBytesConfig, TrainingArguments, Trainer\n",
        "from datasets import Dataset, DatasetDict, load_dataset\n",
        "import numpy as np\n",
        "import nltk\n",
        "import evaluate\n",
        "import sys\n",
        "import os\n",
        "from peft import LoraConfig,get_peft_model,prepare_model_for_kbit_training,TaskType\n",
        "from sklearn.metrics.pairwise import cosine_similarity\n",
        "from nltk.translate.bleu_score import SmoothingFunction, sentence_bleu"
      ],
      "metadata": {
        "execution": {
          "iopub.status.busy": "2024-05-25T12:31:30.620864Z",
          "iopub.execute_input": "2024-05-25T12:31:30.621677Z",
          "iopub.status.idle": "2024-05-25T12:31:50.087568Z",
          "shell.execute_reply.started": "2024-05-25T12:31:30.621643Z",
          "shell.execute_reply": "2024-05-25T12:31:50.086804Z"
        },
        "trusted": true,
        "id": "7DvPDzIZprDJ",
        "outputId": "3f406751-b964-4547-96e7-60c35dd0bf5e"
      },
      "execution_count": null,
      "outputs": [
        {
          "name": "stderr",
          "text": "2024-05-25 12:31:39.346680: E external/local_xla/xla/stream_executor/cuda/cuda_dnn.cc:9261] Unable to register cuDNN factory: Attempting to register factory for plugin cuDNN when one has already been registered\n2024-05-25 12:31:39.346796: E external/local_xla/xla/stream_executor/cuda/cuda_fft.cc:607] Unable to register cuFFT factory: Attempting to register factory for plugin cuFFT when one has already been registered\n2024-05-25 12:31:39.461012: E external/local_xla/xla/stream_executor/cuda/cuda_blas.cc:1515] Unable to register cuBLAS factory: Attempting to register factory for plugin cuBLAS when one has already been registered\n",
          "output_type": "stream"
        }
      ]
    },
    {
      "cell_type": "markdown",
      "source": [
        "# Dataset"
      ],
      "metadata": {
        "id": "YrV5O-Pnp7NX"
      }
    },
    {
      "cell_type": "code",
      "source": [
        "# Load the dataset from Hugging Face\n",
        "dataset = load_dataset(\"medalpaca/medical_meadow_medical_flashcards\")\n",
        "dataset = dataset['train']"
      ],
      "metadata": {
        "execution": {
          "iopub.status.busy": "2024-05-25T12:32:12.339012Z",
          "iopub.execute_input": "2024-05-25T12:32:12.340020Z",
          "iopub.status.idle": "2024-05-25T12:32:15.141069Z",
          "shell.execute_reply.started": "2024-05-25T12:32:12.339984Z",
          "shell.execute_reply": "2024-05-25T12:32:15.140176Z"
        },
        "trusted": true,
        "colab": {
          "referenced_widgets": [
            "3c34b5dd57054ed680f4586550897f58",
            "161e7a30742b4b6c929870b8942f01ef",
            "4cbb15c6c37e48ef8d795fe36ceab8a3"
          ]
        },
        "id": "u2MH6hXMprDM",
        "outputId": "f982e974-cd90-4d8b-d9ae-7b2f0c9ca9b0"
      },
      "execution_count": null,
      "outputs": [
        {
          "output_type": "display_data",
          "data": {
            "text/plain": "Downloading readme:   0%|          | 0.00/1.24k [00:00<?, ?B/s]",
            "application/vnd.jupyter.widget-view+json": {
              "version_major": 2,
              "version_minor": 0,
              "model_id": "3c34b5dd57054ed680f4586550897f58"
            }
          },
          "metadata": {}
        },
        {
          "output_type": "display_data",
          "data": {
            "text/plain": "Downloading data:   0%|          | 0.00/17.7M [00:00<?, ?B/s]",
            "application/vnd.jupyter.widget-view+json": {
              "version_major": 2,
              "version_minor": 0,
              "model_id": "161e7a30742b4b6c929870b8942f01ef"
            }
          },
          "metadata": {}
        },
        {
          "output_type": "display_data",
          "data": {
            "text/plain": "Generating train split:   0%|          | 0/33955 [00:00<?, ? examples/s]",
            "application/vnd.jupyter.widget-view+json": {
              "version_major": 2,
              "version_minor": 0,
              "model_id": "4cbb15c6c37e48ef8d795fe36ceab8a3"
            }
          },
          "metadata": {}
        }
      ]
    },
    {
      "cell_type": "code",
      "source": [
        "# Split the dataset\n",
        "train_test_split = dataset.train_test_split(test_size=0.2, seed=42)\n",
        "train_dataset = train_test_split['train']\n",
        "temp_dataset = train_test_split['test']\n",
        "test_valid_split = temp_dataset.train_test_split(test_size=0.5, seed=42)\n",
        "val_dataset = test_valid_split['train']\n",
        "test_dataset = test_valid_split['test']"
      ],
      "metadata": {
        "execution": {
          "iopub.status.busy": "2024-05-25T12:32:17.560219Z",
          "iopub.execute_input": "2024-05-25T12:32:17.560686Z",
          "iopub.status.idle": "2024-05-25T12:32:17.728964Z",
          "shell.execute_reply.started": "2024-05-25T12:32:17.560652Z",
          "shell.execute_reply": "2024-05-25T12:32:17.728219Z"
        },
        "trusted": true,
        "id": "yS2aLbTgprDN"
      },
      "execution_count": null,
      "outputs": []
    },
    {
      "cell_type": "code",
      "source": [
        "dataset = DatasetDict({\n",
        "    'train': train_dataset,\n",
        "    'validation': val_dataset,\n",
        "    'test': test_dataset\n",
        "})"
      ],
      "metadata": {
        "execution": {
          "iopub.status.busy": "2024-05-25T12:32:19.085592Z",
          "iopub.execute_input": "2024-05-25T12:32:19.086236Z",
          "iopub.status.idle": "2024-05-25T12:32:19.090588Z",
          "shell.execute_reply.started": "2024-05-25T12:32:19.086202Z",
          "shell.execute_reply": "2024-05-25T12:32:19.089585Z"
        },
        "trusted": true,
        "id": "xb9wroUFprDO"
      },
      "execution_count": null,
      "outputs": []
    },
    {
      "cell_type": "markdown",
      "source": [
        "# Model and adapters configuration"
      ],
      "metadata": {
        "id": "0nBxF3lXqBMN"
      }
    },
    {
      "cell_type": "markdown",
      "source": [
        "In this section the goal is to fine-tune a T5 model with 61M of parameters using a T4 GPU. From traditional fine-tuning some issue arised due to VRAM limitations and output capacity of the used environment. This lead to the necessity of a **parameter-efficient fine-tuning** (PEFT) techniques like **LoRA** which employs 4-bit quantization.\n",
        "\n",
        "**Quantization** is a technique used to reduce the number of bits that represent the model's weights and activations. The primary goal is to reduce the model's size and improve computational efficiency, especially on resource-constrained devices.\n"
      ],
      "metadata": {
        "id": "gIQhwac8sNNm"
      }
    },
    {
      "cell_type": "code",
      "source": [
        "# Configure BitsAndBytes for 4-bit quantization\n",
        "bnb_config = BitsAndBytesConfig(\n",
        "    load_in_4bit=True,\n",
        "    bnb_4bit_quant_type=\"nf4\",\n",
        "    bnb_4bit_compute_dtype=torch.float16,\n",
        "    bnb_4bit_use_double_quant= False,\n",
        ")"
      ],
      "metadata": {
        "execution": {
          "iopub.status.busy": "2024-05-25T12:32:21.624167Z",
          "iopub.execute_input": "2024-05-25T12:32:21.624537Z",
          "iopub.status.idle": "2024-05-25T12:32:21.630510Z",
          "shell.execute_reply.started": "2024-05-25T12:32:21.624507Z",
          "shell.execute_reply": "2024-05-25T12:32:21.629497Z"
        },
        "trusted": true,
        "id": "g86bg-wuprDP"
      },
      "execution_count": null,
      "outputs": []
    },
    {
      "cell_type": "code",
      "source": [
        "# Load the base model and the tokenizer\n",
        "model = T5ForConditionalGeneration.from_pretrained(\"google-t5/t5-small\",quantization_config=bnb_config, device_map=\"auto\")\n",
        "model.config.use_cache = False\n",
        "tokenizer = T5Tokenizer.from_pretrained(\"google-t5/t5-small\")"
      ],
      "metadata": {
        "execution": {
          "iopub.status.busy": "2024-05-25T12:32:33.002878Z",
          "iopub.execute_input": "2024-05-25T12:32:33.003241Z",
          "iopub.status.idle": "2024-05-25T12:32:37.584757Z",
          "shell.execute_reply.started": "2024-05-25T12:32:33.003212Z",
          "shell.execute_reply": "2024-05-25T12:32:37.583802Z"
        },
        "trusted": true,
        "colab": {
          "referenced_widgets": [
            "c44e64184550421ba5717c99922ae4c5",
            "b576b3573bb245629bbe90f1f8bfa3da",
            "e80276d7241b400bad39ecac2e17f433",
            "9f981b673782402eba4a98c035299f98",
            "d1f8aa6f582744f2af426c0475767e44",
            "e04cfd868a09414f81e3294e8b547a51"
          ]
        },
        "id": "6UShWzeTprDQ",
        "outputId": "0a3f33cc-d4fe-45c2-b146-a4d57d7e9b12"
      },
      "execution_count": null,
      "outputs": [
        {
          "output_type": "display_data",
          "data": {
            "text/plain": "config.json:   0%|          | 0.00/1.21k [00:00<?, ?B/s]",
            "application/vnd.jupyter.widget-view+json": {
              "version_major": 2,
              "version_minor": 0,
              "model_id": "c44e64184550421ba5717c99922ae4c5"
            }
          },
          "metadata": {}
        },
        {
          "output_type": "display_data",
          "data": {
            "text/plain": "model.safetensors:   0%|          | 0.00/242M [00:00<?, ?B/s]",
            "application/vnd.jupyter.widget-view+json": {
              "version_major": 2,
              "version_minor": 0,
              "model_id": "b576b3573bb245629bbe90f1f8bfa3da"
            }
          },
          "metadata": {}
        },
        {
          "output_type": "display_data",
          "data": {
            "text/plain": "generation_config.json:   0%|          | 0.00/147 [00:00<?, ?B/s]",
            "application/vnd.jupyter.widget-view+json": {
              "version_major": 2,
              "version_minor": 0,
              "model_id": "e80276d7241b400bad39ecac2e17f433"
            }
          },
          "metadata": {}
        },
        {
          "output_type": "display_data",
          "data": {
            "text/plain": "tokenizer_config.json:   0%|          | 0.00/2.32k [00:00<?, ?B/s]",
            "application/vnd.jupyter.widget-view+json": {
              "version_major": 2,
              "version_minor": 0,
              "model_id": "9f981b673782402eba4a98c035299f98"
            }
          },
          "metadata": {}
        },
        {
          "output_type": "display_data",
          "data": {
            "text/plain": "spiece.model:   0%|          | 0.00/792k [00:00<?, ?B/s]",
            "application/vnd.jupyter.widget-view+json": {
              "version_major": 2,
              "version_minor": 0,
              "model_id": "d1f8aa6f582744f2af426c0475767e44"
            }
          },
          "metadata": {}
        },
        {
          "output_type": "display_data",
          "data": {
            "text/plain": "tokenizer.json:   0%|          | 0.00/1.39M [00:00<?, ?B/s]",
            "application/vnd.jupyter.widget-view+json": {
              "version_major": 2,
              "version_minor": 0,
              "model_id": "e04cfd868a09414f81e3294e8b547a51"
            }
          },
          "metadata": {}
        },
        {
          "name": "stderr",
          "text": "You are using the default legacy behaviour of the <class 'transformers.models.t5.tokenization_t5.T5Tokenizer'>. This is expected, and simply means that the `legacy` (previous) behavior will be used so nothing changes for you. If you want to use the new behaviour, set `legacy=False`. This should only be set if you understand what it means, and thoroughly read the reason why this was added as explained in https://github.com/huggingface/transformers/pull/24565\nSpecial tokens have been added in the vocabulary, make sure the associated word embeddings are fine-tuned or trained.\n",
          "output_type": "stream"
        }
      ]
    },
    {
      "cell_type": "code",
      "source": [
        "# Configure LoRA parameters\n",
        "\n",
        "lora_config = LoraConfig(\n",
        " r=16,\n",
        " lora_alpha=32,\n",
        " target_modules=[\"q\", \"v\"],\n",
        " lora_dropout=0.05,\n",
        " bias=\"none\",\n",
        " task_type=TaskType.SEQ_2_SEQ_LM\n",
        ")"
      ],
      "metadata": {
        "execution": {
          "iopub.status.busy": "2024-05-25T12:32:40.622394Z",
          "iopub.execute_input": "2024-05-25T12:32:40.622734Z",
          "iopub.status.idle": "2024-05-25T12:32:40.627592Z",
          "shell.execute_reply.started": "2024-05-25T12:32:40.622709Z",
          "shell.execute_reply": "2024-05-25T12:32:40.626684Z"
        },
        "trusted": true,
        "id": "Jz00KUi3prDR"
      },
      "execution_count": null,
      "outputs": []
    },
    {
      "cell_type": "code",
      "source": [
        "# Prepare model for k-bit training\n",
        "model = prepare_model_for_kbit_training(model)\n",
        "\n",
        "# Integrate LoRA with the base model\n",
        "model = get_peft_model(model, lora_config)"
      ],
      "metadata": {
        "execution": {
          "iopub.status.busy": "2024-05-25T12:32:43.681201Z",
          "iopub.execute_input": "2024-05-25T12:32:43.682123Z",
          "iopub.status.idle": "2024-05-25T12:32:43.761271Z",
          "shell.execute_reply.started": "2024-05-25T12:32:43.682087Z",
          "shell.execute_reply": "2024-05-25T12:32:43.760345Z"
        },
        "trusted": true,
        "id": "q3ebRCS9prDR"
      },
      "execution_count": null,
      "outputs": []
    },
    {
      "cell_type": "code",
      "source": [
        "# Print trainable parameters to verify configuration\n",
        "model.print_trainable_parameters()"
      ],
      "metadata": {
        "execution": {
          "iopub.status.busy": "2024-05-25T12:32:44.774032Z",
          "iopub.execute_input": "2024-05-25T12:32:44.774636Z",
          "iopub.status.idle": "2024-05-25T12:32:44.781977Z",
          "shell.execute_reply.started": "2024-05-25T12:32:44.774606Z",
          "shell.execute_reply": "2024-05-25T12:32:44.781047Z"
        },
        "trusted": true,
        "id": "HkGjLwI9prDS",
        "outputId": "4775eef7-f647-4710-b3f6-5dbadbe12340"
      },
      "execution_count": null,
      "outputs": [
        {
          "name": "stdout",
          "text": "trainable params: 589,824 || all params: 61,096,448 || trainable%: 0.9654\n",
          "output_type": "stream"
        }
      ]
    },
    {
      "cell_type": "code",
      "source": [
        "# Load the data collator\n",
        "data_collator = DataCollatorForSeq2Seq(tokenizer=tokenizer, model=model)"
      ],
      "metadata": {
        "execution": {
          "iopub.status.busy": "2024-05-25T12:32:47.882693Z",
          "iopub.execute_input": "2024-05-25T12:32:47.883542Z",
          "iopub.status.idle": "2024-05-25T12:32:47.887412Z",
          "shell.execute_reply.started": "2024-05-25T12:32:47.883507Z",
          "shell.execute_reply": "2024-05-25T12:32:47.886456Z"
        },
        "trusted": true,
        "id": "o7kjns7qprDS"
      },
      "execution_count": null,
      "outputs": []
    },
    {
      "cell_type": "code",
      "source": [
        "prefix = \"answer the question: \"\n",
        "\n",
        "def preprocess_function(examples):\n",
        "    inputs = [prefix + question for question in examples[\"input\"]]\n",
        "    model_inputs = tokenizer(inputs, max_length=128, truncation=True)\n",
        "\n",
        "    labels = tokenizer(text_target = examples[\"output\"], max_length=512, truncation=True, padding=\"max_length\")\n",
        "    model_inputs[\"labels\"] = labels[\"input_ids\"]\n",
        "    return model_inputs"
      ],
      "metadata": {
        "execution": {
          "iopub.status.busy": "2024-05-25T12:32:49.160518Z",
          "iopub.execute_input": "2024-05-25T12:32:49.161354Z",
          "iopub.status.idle": "2024-05-25T12:32:49.166982Z",
          "shell.execute_reply.started": "2024-05-25T12:32:49.161319Z",
          "shell.execute_reply": "2024-05-25T12:32:49.166028Z"
        },
        "trusted": true,
        "id": "4_fj8sC8prDT"
      },
      "execution_count": null,
      "outputs": []
    },
    {
      "cell_type": "code",
      "source": [
        "tokenized_dataset = dataset.map(preprocess_function, batched=True)"
      ],
      "metadata": {
        "execution": {
          "iopub.status.busy": "2024-05-25T12:32:54.268354Z",
          "iopub.execute_input": "2024-05-25T12:32:54.268690Z",
          "iopub.status.idle": "2024-05-25T12:33:22.959774Z",
          "shell.execute_reply.started": "2024-05-25T12:32:54.268665Z",
          "shell.execute_reply": "2024-05-25T12:33:22.958886Z"
        },
        "trusted": true,
        "colab": {
          "referenced_widgets": [
            "7f57099262da43df9da04068acc10b87",
            "d7935010e2a8416d8817c11b9438f7c2",
            "521366dabe7e40dba34b51d0470dda8a"
          ]
        },
        "id": "kmrNrn2RprDT",
        "outputId": "c08f5d94-e91a-4ea5-d2ad-eea8e8da0025"
      },
      "execution_count": null,
      "outputs": [
        {
          "output_type": "display_data",
          "data": {
            "text/plain": "Map:   0%|          | 0/27164 [00:00<?, ? examples/s]",
            "application/vnd.jupyter.widget-view+json": {
              "version_major": 2,
              "version_minor": 0,
              "model_id": "7f57099262da43df9da04068acc10b87"
            }
          },
          "metadata": {}
        },
        {
          "output_type": "display_data",
          "data": {
            "text/plain": "Map:   0%|          | 0/3395 [00:00<?, ? examples/s]",
            "application/vnd.jupyter.widget-view+json": {
              "version_major": 2,
              "version_minor": 0,
              "model_id": "d7935010e2a8416d8817c11b9438f7c2"
            }
          },
          "metadata": {}
        },
        {
          "output_type": "display_data",
          "data": {
            "text/plain": "Map:   0%|          | 0/3396 [00:00<?, ? examples/s]",
            "application/vnd.jupyter.widget-view+json": {
              "version_major": 2,
              "version_minor": 0,
              "model_id": "521366dabe7e40dba34b51d0470dda8a"
            }
          },
          "metadata": {}
        }
      ]
    },
    {
      "cell_type": "code",
      "source": [
        "# Set up Rouge score for evaluation\n",
        "nltk.download(\"punkt\", quiet=True)\n",
        "metric = evaluate.load(\"rouge\")"
      ],
      "metadata": {
        "execution": {
          "iopub.status.busy": "2024-05-25T12:33:22.961199Z",
          "iopub.execute_input": "2024-05-25T12:33:22.961511Z",
          "iopub.status.idle": "2024-05-25T12:33:23.954829Z",
          "shell.execute_reply.started": "2024-05-25T12:33:22.961485Z",
          "shell.execute_reply": "2024-05-25T12:33:23.954126Z"
        },
        "trusted": true,
        "colab": {
          "referenced_widgets": [
            "78a49889db0c4737882ee770b8d1be20"
          ]
        },
        "id": "FCNjnOZSprDU",
        "outputId": "1ac6a65d-3a44-44d7-d13d-e1cdab05a4c2"
      },
      "execution_count": null,
      "outputs": [
        {
          "output_type": "display_data",
          "data": {
            "text/plain": "Downloading builder script:   0%|          | 0.00/6.27k [00:00<?, ?B/s]",
            "application/vnd.jupyter.widget-view+json": {
              "version_major": 2,
              "version_minor": 0,
              "model_id": "78a49889db0c4737882ee770b8d1be20"
            }
          },
          "metadata": {}
        }
      ]
    },
    {
      "cell_type": "code",
      "source": [
        "def compute_metrics(eval_preds):\n",
        "    preds, labels = eval_preds\n",
        "\n",
        "    # decode preds and labels\n",
        "    labels = np.where(labels != -100, labels, tokenizer.pad_token_id)\n",
        "    decoded_preds = tokenizer.batch_decode(preds, skip_special_tokens=True)\n",
        "    decoded_labels = tokenizer.batch_decode(labels, skip_special_tokens=True)\n",
        "\n",
        "    # rougeLSum expects newline after each sentence\n",
        "    decoded_preds = [\"\\n\".join(nltk.sent_tokenize(pred.strip())) for pred in decoded_preds]\n",
        "    decoded_labels = [\"\\n\".join(nltk.sent_tokenize(label.strip())) for label in decoded_labels]\n",
        "\n",
        "    result = metric.compute(predictions=decoded_preds, references=decoded_labels, use_stemmer=True)\n",
        "    return result"
      ],
      "metadata": {
        "execution": {
          "iopub.status.busy": "2024-05-25T12:33:23.955811Z",
          "iopub.execute_input": "2024-05-25T12:33:23.956075Z",
          "iopub.status.idle": "2024-05-25T12:33:23.962459Z",
          "shell.execute_reply.started": "2024-05-25T12:33:23.956049Z",
          "shell.execute_reply": "2024-05-25T12:33:23.961653Z"
        },
        "trusted": true,
        "id": "Ms70IJHcprDU"
      },
      "execution_count": null,
      "outputs": []
    },
    {
      "cell_type": "code",
      "source": [
        "# Set up training arguments\n",
        "training_args = Seq2SeqTrainingArguments(\n",
        "    output_dir=\"./results\",\n",
        "    eval_strategy=\"epoch\",\n",
        "    learning_rate=3e-4,\n",
        "    per_device_train_batch_size=3,\n",
        "    per_device_eval_batch_size=4,\n",
        "    weight_decay=0.01,\n",
        "    num_train_epochs=10,\n",
        "    predict_with_generate=True,\n",
        "    push_to_hub=False\n",
        ")\n",
        "\n",
        "# Set up trainer\n",
        "trainer = Seq2SeqTrainer(\n",
        "    model=model,\n",
        "    args=training_args,\n",
        "    train_dataset=tokenized_dataset[\"train\"],\n",
        "    eval_dataset=tokenized_dataset[\"validation\"],\n",
        "    tokenizer=tokenizer,\n",
        "    data_collator=data_collator,\n",
        "    compute_metrics=compute_metrics\n",
        ")"
      ],
      "metadata": {
        "execution": {
          "iopub.status.busy": "2024-05-25T12:33:23.963915Z",
          "iopub.execute_input": "2024-05-25T12:33:23.964194Z",
          "iopub.status.idle": "2024-05-25T12:33:24.589654Z",
          "shell.execute_reply.started": "2024-05-25T12:33:23.964170Z",
          "shell.execute_reply": "2024-05-25T12:33:24.588892Z"
        },
        "trusted": true,
        "id": "K2UVlBbSprDV"
      },
      "execution_count": null,
      "outputs": []
    },
    {
      "cell_type": "code",
      "source": [
        "# Train the model\n",
        "trainer.train()"
      ],
      "metadata": {
        "execution": {
          "iopub.status.busy": "2024-05-24T17:57:44.123590Z",
          "iopub.execute_input": "2024-05-24T17:57:44.124526Z",
          "iopub.status.idle": "2024-05-25T02:14:17.627713Z",
          "shell.execute_reply.started": "2024-05-24T17:57:44.124486Z",
          "shell.execute_reply": "2024-05-25T02:14:17.626615Z"
        },
        "trusted": true,
        "id": "MnQe0DI6prDV",
        "outputId": "8b39d9cb-810f-48cb-bf08-2cec4a80d70c"
      },
      "execution_count": null,
      "outputs": [
        {
          "name": "stderr",
          "text": "\u001b[34m\u001b[1mwandb\u001b[0m: \u001b[33mWARNING\u001b[0m The `run_name` is currently set to the same value as `TrainingArguments.output_dir`. If this was not intended, please specify a different run name by setting the `TrainingArguments.run_name` parameter.\n\u001b[34m\u001b[1mwandb\u001b[0m: Logging into wandb.ai. (Learn how to deploy a W&B server locally: https://wandb.me/wandb-server)\n\u001b[34m\u001b[1mwandb\u001b[0m: You can find your API key in your browser here: https://wandb.ai/authorize\n\u001b[34m\u001b[1mwandb\u001b[0m: Paste an API key from your profile and hit enter, or press ctrl+c to quit:",
          "output_type": "stream"
        },
        {
          "output_type": "stream",
          "name": "stdin",
          "text": "  ········································\n"
        },
        {
          "name": "stderr",
          "text": "\u001b[34m\u001b[1mwandb\u001b[0m: Appending key for api.wandb.ai to your netrc file: /root/.netrc\n",
          "output_type": "stream"
        },
        {
          "output_type": "display_data",
          "data": {
            "text/plain": "<IPython.core.display.HTML object>",
            "text/html": "wandb version 0.17.0 is available!  To upgrade, please run:\n $ pip install wandb --upgrade"
          },
          "metadata": {}
        },
        {
          "output_type": "display_data",
          "data": {
            "text/plain": "<IPython.core.display.HTML object>",
            "text/html": "Tracking run with wandb version 0.16.6"
          },
          "metadata": {}
        },
        {
          "output_type": "display_data",
          "data": {
            "text/plain": "<IPython.core.display.HTML object>",
            "text/html": "Run data is saved locally in <code>/kaggle/working/wandb/run-20240524_180656-edl55wmr</code>"
          },
          "metadata": {}
        },
        {
          "output_type": "display_data",
          "data": {
            "text/plain": "<IPython.core.display.HTML object>",
            "text/html": "Syncing run <strong><a href='https://wandb.ai/polimifederica/huggingface/runs/edl55wmr' target=\"_blank\">./results</a></strong> to <a href='https://wandb.ai/polimifederica/huggingface' target=\"_blank\">Weights & Biases</a> (<a href='https://wandb.me/run' target=\"_blank\">docs</a>)<br/>"
          },
          "metadata": {}
        },
        {
          "output_type": "display_data",
          "data": {
            "text/plain": "<IPython.core.display.HTML object>",
            "text/html": " View project at <a href='https://wandb.ai/polimifederica/huggingface' target=\"_blank\">https://wandb.ai/polimifederica/huggingface</a>"
          },
          "metadata": {}
        },
        {
          "output_type": "display_data",
          "data": {
            "text/plain": "<IPython.core.display.HTML object>",
            "text/html": " View run at <a href='https://wandb.ai/polimifederica/huggingface/runs/edl55wmr' target=\"_blank\">https://wandb.ai/polimifederica/huggingface/runs/edl55wmr</a>"
          },
          "metadata": {}
        },
        {
          "output_type": "display_data",
          "data": {
            "text/plain": "<IPython.core.display.HTML object>",
            "text/html": "\n    <div>\n      \n      <progress value='90550' max='90550' style='width:300px; height:20px; vertical-align: middle;'></progress>\n      [90550/90550 8:07:02, Epoch 10/10]\n    </div>\n    <table border=\"1\" class=\"dataframe\">\n  <thead>\n <tr style=\"text-align: left;\">\n      <th>Epoch</th>\n      <th>Training Loss</th>\n      <th>Validation Loss</th>\n      <th>Rouge1</th>\n      <th>Rouge2</th>\n      <th>Rougel</th>\n      <th>Rougelsum</th>\n    </tr>\n  </thead>\n  <tbody>\n    <tr>\n      <td>1</td>\n      <td>0.414000</td>\n      <td>0.367883</td>\n      <td>0.367843</td>\n      <td>0.250495</td>\n      <td>0.327986</td>\n      <td>0.332607</td>\n    </tr>\n    <tr>\n      <td>2</td>\n      <td>0.383700</td>\n      <td>0.356698</td>\n      <td>0.372550</td>\n      <td>0.255570</td>\n      <td>0.332414</td>\n      <td>0.336967</td>\n    </tr>\n    <tr>\n      <td>3</td>\n      <td>0.393300</td>\n      <td>0.350015</td>\n      <td>0.376252</td>\n      <td>0.259455</td>\n      <td>0.336865</td>\n      <td>0.341278</td>\n    </tr>\n    <tr>\n      <td>4</td>\n      <td>0.377900</td>\n      <td>0.345378</td>\n      <td>0.378078</td>\n      <td>0.263290</td>\n      <td>0.339440</td>\n      <td>0.343415</td>\n    </tr>\n    <tr>\n      <td>5</td>\n      <td>0.389200</td>\n      <td>0.342072</td>\n      <td>0.382109</td>\n      <td>0.268190</td>\n      <td>0.344486</td>\n      <td>0.348463</td>\n    </tr>\n    <tr>\n      <td>6</td>\n      <td>0.391400</td>\n      <td>0.339628</td>\n      <td>0.381324</td>\n      <td>0.265741</td>\n      <td>0.344137</td>\n      <td>0.348261</td>\n    </tr>\n    <tr>\n      <td>7</td>\n      <td>0.377900</td>\n      <td>0.337988</td>\n      <td>0.383235</td>\n      <td>0.269000</td>\n      <td>0.345822</td>\n      <td>0.349690</td>\n    </tr>\n    <tr>\n      <td>8</td>\n      <td>0.381100</td>\n      <td>0.336742</td>\n      <td>0.383765</td>\n      <td>0.268691</td>\n      <td>0.346805</td>\n      <td>0.350632</td>\n    </tr>\n    <tr>\n      <td>9</td>\n      <td>0.373400</td>\n      <td>0.335995</td>\n      <td>0.383756</td>\n      <td>0.269381</td>\n      <td>0.347605</td>\n      <td>0.351421</td>\n    </tr>\n    <tr>\n      <td>10</td>\n      <td>0.387200</td>\n      <td>0.335405</td>\n      <td>0.383710</td>\n      <td>0.269114</td>\n      <td>0.346829</td>\n      <td>0.350699</td>\n    </tr>\n  </tbody>\n</table><p>"
          },
          "metadata": {}
        },
        {
          "execution_count": 20,
          "output_type": "execute_result",
          "data": {
            "text/plain": "TrainOutput(global_step=90550, training_loss=0.3954801877725855, metrics={'train_runtime': 29793.1346, 'train_samples_per_second': 9.118, 'train_steps_per_second': 3.039, 'total_flos': 2598478609612800.0, 'train_loss': 0.3954801877725855, 'epoch': 10.0})"
          },
          "metadata": {}
        }
      ]
    },
    {
      "cell_type": "markdown",
      "source": [
        "# Manual checking with random question from test dataset\n"
      ],
      "metadata": {
        "id": "9l5R_eCSprDW"
      }
    },
    {
      "cell_type": "code",
      "source": [
        "print(dataset['test'].data)"
      ],
      "metadata": {
        "execution": {
          "iopub.status.busy": "2024-05-25T12:33:46.412276Z",
          "iopub.execute_input": "2024-05-25T12:33:46.412625Z",
          "iopub.status.idle": "2024-05-25T12:33:46.418104Z",
          "shell.execute_reply.started": "2024-05-25T12:33:46.412597Z",
          "shell.execute_reply": "2024-05-25T12:33:46.417088Z"
        },
        "trusted": true,
        "id": "x-ydoYyoprDY",
        "outputId": "5b3c890b-3886-469b-acdf-8dddc3c346ba"
      },
      "execution_count": null,
      "outputs": [
        {
          "name": "stdout",
          "text": "MemoryMappedTable\ninput: string\noutput: string\ninstruction: string\n----\ninput: [[\"What is the relationship between very low Mg2+ levels, PTH levels, and Ca2+ levels?\",\"What leads to genitourinary syndrome of menopause (atrophic vaginitis)?\",\"What does low REM sleep latency and experiencing hallucinations/sleep paralysis suggest?\",\"What are some possible causes of low PTH and high calcium levels?\",\"How does the level of anti-müllerian hormone relate to ovarian reserve?\",...,\"What are the typical shapes of urine crystals found in uric acid kidney stones?\",\"How can urine crystals found in uric acid kidney stones be described in terms of their shape?\",\"What specific shapes do urine crystals take in uric acid kidney stones?\",\"What type of paralysis may result from upper motoneuron lesions?\",\"What is the relationship between upper motoneuron lesions and paralysis?\"],[\"What effect do upper motoneuron lesions have on muscle tone?\",\"How do upper motoneuron lesions affect muscle tone?\",\"What is the relationship between upper motoneuron lesions and reflexes?\",\"How do upper motoneuron lesions affect reflexes?\",\"What is unstable angina pectoris and what are its symptoms?\",...,\"What condition leads to a \"frog-like\" appearance of the fetus, and what is the cause of this appearance?\",\"What neural tube defect is associated with maternal type I diabetes?\",\"What is Androgen insensitivity syndrome, and what causes it?\",\"What is Andersen disease, and what causes it?\",\"What is Andersen disease also known as, and what is its relation to glycogen storage disease?\"],...,[\"Is it ever considered ethical for psychiatrists or medical professionals involved in psychiatric care to engage in romantic relationships with former patients?\",\"Is it common practice to fragment RNA and protein prior to analysis?\",\"Do Reoviruses have an envelope?\",\"Is there any similarity between randomization and concealment in clinical trials?\",\"Are a patient's psychiatric notes included when they request access to their protected health information?\",...,\"What is a potential complication of acute pancreatitis due to pancreatic hemorrhage and fluid sequestration?\",\"What electrolyte abnormalities may be present in a patient with acute pancreatitis?\",\"What may cause absent bowel sounds in a patient with acute pancreatitis?\",\"What is a potential complication of acute pancreatitis that is formed by fibrous tissue surrounding liquefactive necrosis and pancreatic enzymes?\",\"What are the two most common causes of acute pancreatitis?\"],[\"What is the effect of leaning forward on the characteristic epigastric pain that is caused by acute pancreatitis?\",\"How can acute pancreatitis lead to third spacing?\",\"What condition can be indicated by high levels of AST, ALT, and ALP in conjunction with acute pancreatitis?\",\"What are the potential diagnoses when acute pancreatitis is accompanied by persistent fever and leukocytosis, or when it is accompanied by mass symptoms such as feeling a mass or experiencing early satiety?\",\"What imaging modality is typically used to diagnose acute pancreatitis?\",...,\"At what age does bed wetting (enuresis) become a concern?\",\"\",\"\",\"\",\"\"]]\noutput: [[\"Very low Mg2+ levels correspond to low PTH levels which in turn results in low Ca2+ levels.\",\"Low estradiol production leads to genitourinary syndrome of menopause (atrophic vaginitis).\",\"Low REM sleep latency and experiencing hallucinations/sleep paralysis suggests narcolepsy.\",\"PTH-independent hypercalcemia, which can be caused by cancer, granulomatous disease, or vitamin D intoxication.\",\"The level of anti-müllerian hormone is directly related to ovarian reserve - a lower level indicates a lower ovarian reserve.\",...,\"Uric acid kidney stones are characterized by urine crystals in the shape of a rhomboid or rosettes.\",\"Urine crystals found in uric acid kidney stones are characterized by a rhomboid or rosette shape.\",\"Urine crystals in uric acid kidney stones exhibit a rhomboid or rosette shape.\",\"Upper motoneuron lesions may cause spastic paralysis.\",\"Upper motoneuron lesions may cause spastic paralysis.\"],[\"Upper motoneuron lesions may cause increased tone.\",\"Upper motoneuron lesions may cause increased tone.\",\"Upper motoneuron lesions may cause hyper-reflexia.\",\"Upper motoneuron lesions may cause hyper-reflexia.\",\"Unstable angina pectoris is a condition that results from reduced resting coronary blood flow and presents with worsening angina or angina at rest.\",...,\"Anencephaly leads to a \"frog-like\" appearance of the fetus due to prominent eyes.\",\"Anencephaly is the neural tube defect associated with maternal type I diabetes.\",\"Androgen insensitivity syndrome is a condition caused by a defect in the androgen receptor, which results in a normal-appearing female that is genotypically XY.\",\"Andersen disease is a condition caused by a deficiency of the enzyme branching enzyme.\",\"Andersen disease is also known as glycogen storage disease type IV.\"],...,[\"No, it is never considered ethical for psychiatrists or medical professionals involved in psychiatric care to engage in romantic relationships with former patients.\",\"No, it is not typical to fragment RNA and protein before analysis.\",\"No, Reoviruses are naked viruses and do not have an envelope.\",\"No, randomization and concealment are two different concepts in clinical trials and are not the same.\",\"No, psychiatric notes are generally not included when a patient requests access to their protected health information.\",...,\"Acute pancreatitis may progress to shock, due to pancreatic hemorrhage and fluid sequestration.\",\"Acute pancreatitis may present with hypo-calcemia/magnesemia.\",\"Acute pancreatitis may present with absent bowel sounds due to ileus.\",\"Acute pancreatitis may be complicated by pancreatic pseudocysts, which are formed by fibrous tissue surrounding liquefactive necrosis and pancreatic enzymes.\",\"Acute pancreatitis is most commonly due to alcohol or gallstones.\"],[\"Acute pancreatitis causes epigastric pain radiating to the back that is relieved by leaning forward.\",\"Acute pancreatitis can cause third spacing through increased capillary permeability.\",\"Acute pancreatitis and high AST/ALT/ALP = gallstones.\",\"Acute pancreatitis and persistent fever/leukocytosis can indicate a pancreatic abscess, while acute pancreatitis with mass symptoms (feeling a mass/early satiety) can indicate a pancreatic pseudocyst.\",\"Acute pancreatitis is typically diagnosed using a CT scan with contrast.\",...,\"At the age of 5 or older, bed wetting (enuresis) may become a concern and should be evaluated by a healthcare provider.\",\"\",\"\",\"\",\"\"]]\ninstruction: [[\"Answer this question truthfully\",\"Answer this question truthfully\",\"Answer this question truthfully\",\"Answer this question truthfully\",\"Answer this question truthfully\",...,\"Answer this question truthfully\",\"Answer this question truthfully\",\"Answer this question truthfully\",\"Answer this question truthfully\",\"Answer this question truthfully\"],[\"Answer this question truthfully\",\"Answer this question truthfully\",\"Answer this question truthfully\",\"Answer this question truthfully\",\"Answer this question truthfully\",...,\"Answer this question truthfully\",\"Answer this question truthfully\",\"Answer this question truthfully\",\"Answer this question truthfully\",\"Answer this question truthfully\"],...,[\"Answer this question truthfully\",\"Answer this question truthfully\",\"Answer this question truthfully\",\"Answer this question truthfully\",\"Answer this question truthfully\",...,\"Answer this question truthfully\",\"Answer this question truthfully\",\"Answer this question truthfully\",\"Answer this question truthfully\",\"Answer this question truthfully\"],[\"Answer this question truthfully\",\"Answer this question truthfully\",\"Answer this question truthfully\",\"Answer this question truthfully\",\"Answer this question truthfully\",...,\"Answer this question truthfully\",\"Answer this question truthfully\",\"Answer this question truthfully\",\"Answer this question truthfully\",\"Answer this question truthfully\"]]\n",
          "output_type": "stream"
        }
      ]
    },
    {
      "cell_type": "code",
      "source": [
        "df = dataset['test'].to_pandas()"
      ],
      "metadata": {
        "execution": {
          "iopub.status.busy": "2024-05-25T12:33:50.715307Z",
          "iopub.execute_input": "2024-05-25T12:33:50.715988Z",
          "iopub.status.idle": "2024-05-25T12:33:50.751093Z",
          "shell.execute_reply.started": "2024-05-25T12:33:50.715957Z",
          "shell.execute_reply": "2024-05-25T12:33:50.750213Z"
        },
        "trusted": true,
        "id": "13lUeKdsprDZ"
      },
      "execution_count": null,
      "outputs": []
    },
    {
      "cell_type": "code",
      "source": [
        "import random\n",
        "\n",
        "for i in range(5):\n",
        "    random_index = random.randint(0, len(df) - 1)\n",
        "    random_row = df.iloc[random_index]\n",
        "    prompt = random_row[\"input\"] + \" ->\"\n",
        "    actual_answer = random_row[\"output\"]\n",
        "\n",
        "    input_ids = tokenizer(prompt, return_tensors=\"pt\").input_ids\n",
        "    response = model.generate(input_ids=input_ids, max_length=20)[0]\n",
        "\n",
        "    response_text = tokenizer.decode(response, skip_special_tokens=True)\n",
        "\n",
        "    print('*************************************')\n",
        "    print('Question: ', prompt)\n",
        "    print('Actual Answer:', actual_answer)\n",
        "    print('Bot Answer: ', response_text)\n",
        "    print('*************************************\\n')"
      ],
      "metadata": {
        "execution": {
          "iopub.status.busy": "2024-05-25T10:53:52.935099Z",
          "iopub.execute_input": "2024-05-25T10:53:52.936030Z",
          "iopub.status.idle": "2024-05-25T10:54:00.207517Z",
          "shell.execute_reply.started": "2024-05-25T10:53:52.935998Z",
          "shell.execute_reply": "2024-05-25T10:54:00.206753Z"
        },
        "trusted": true,
        "id": "33idpqzzprDa",
        "outputId": "69fcc672-c761-4d5b-9789-ff56290d1935"
      },
      "execution_count": null,
      "outputs": [
        {
          "name": "stdout",
          "text": "*************************************\nQuestion:  At which phase of the cell cycle do Vincristine and Vinblastine act? ->\nActual Answer: Vincristine and Vinblastine act at the M phase of the cell cycle.\nBot Answer:  cell cycle\n*************************************\n\n*************************************\nQuestion:  What is the recommended airway management technique for an unconscious patient with impaired respiratory status and suspected cervical fractures? ->\nActual Answer: The recommended airway management technique is rapid sequence intubation.\n\nWhen a patient is unconscious and has impaired respiratory status, it is important to establish and maintain a patent airway in order to ensure adequate oxygenation and ventilation. However, in patients with suspected cervical fractures, airway management can be challenging due to the need to maintain cervical spine immobilization. Rapid sequence intubation (RSI) is a recommended airway management technique in these patients, as it allows for rapid and safe intubation while minimizing movement of the cervical spine. RSI involves the use of sedatives and neuromuscular blocking agents to facilitate intubation, followed by confirmation of proper tube placement and initiation of mechanical ventilation. RSI should only be performed by trained healthcare professionals who are familiar with the technique and its potential complications. Other airway management techniques that may be used in certain situations include bag-mask ventilation, cricothyrotomy, and/or needle cricothyrotomy.\nBot Answer:  Use a tracheotomy to remove the patient's collarbone.\n*************************************\n\n*************************************\nQuestion:  What medical condition is suggested by the presence of amenorrhea, galactorrhea, and infertility? ->\nActual Answer: Amenorrhea and galactorrhea and infertility are suggestive of prolactinoma.\nBot Answer:  a condition characterized by the presence of female reproductive organs\n*************************************\n\n*************************************\nQuestion:  What is the role of eukaryotic initiation factors in protein synthesis? ->\nActual Answer: What is the role of eukaryotic initiation factors in protein synthesis? Eukaryotic initiation factors help assemble the 40s ribosomal subunit with the initiator tRNA.\nBot Answer:  Eukaryotic initiation factors are proteins that initiate the protein synthesis pathway.\n*************************************\n\n*************************************\nQuestion:  Which type of melanoma is the most common? ->\nActual Answer: The most common variant of melanoma is superficial spreading melanoma. This type of melanoma typically begins as a flat, irregularly shaped lesion on the skin that slowly grows and spreads over time. Superficial spreading melanoma usually develops on the legs or back in women, and on the back or chest in men. It can occur at any age, but it is most commonly diagnosed in people in their 40s and 50s. Superficial spreading melanoma is usually treatable if caught early, but it can be deadly if it spreads to other parts of the body. Therefore, it is important to have any suspicious moles or lesions on the skin checked by a dermatologist.\nBot Answer:  skin cancer\n*************************************\n\n",
          "output_type": "stream"
        }
      ]
    },
    {
      "cell_type": "markdown",
      "source": [
        "# Compute metrics"
      ],
      "metadata": {
        "id": "ja9LPQRtprDa"
      }
    },
    {
      "cell_type": "markdown",
      "source": [
        "In this section some metrics are computed to compare generated answers to the original ones using cosine similarity and BLEU score:\n",
        "\n",
        "*   **Cosine similarity** measures the similarity between reference and prediction embeddings\n",
        "*   **BLEU score** measures the quality of text by comparing n-grams of the generated text with those of reference text.\n",
        "\n",
        "Therefore, cosine similarity valuates similarity at the embedding level, focusing on the overall context and meaning represented by numerical vectors while bleu score evaluates the text accuracy at the token level, focusing on the precision of word sequences compared to reference texts."
      ],
      "metadata": {
        "id": "B1gE7LfNvYhx"
      }
    },
    {
      "cell_type": "code",
      "source": [
        "# Get answers from the dataset\n",
        "test_data = dataset['test']\n",
        "# Initialize the list for references\n",
        "references = []\n",
        "\n",
        "# Iterate over the test data and collect the first 500 'output' values\n",
        "for index, row in enumerate(test_data):\n",
        "    if index >= 500:\n",
        "        break\n",
        "    references.append(row['output'])"
      ],
      "metadata": {
        "execution": {
          "iopub.status.busy": "2024-05-25T10:58:08.032918Z",
          "iopub.execute_input": "2024-05-25T10:58:08.033657Z",
          "iopub.status.idle": "2024-05-25T10:58:08.087618Z",
          "shell.execute_reply.started": "2024-05-25T10:58:08.033626Z",
          "shell.execute_reply": "2024-05-25T10:58:08.086712Z"
        },
        "trusted": true,
        "id": "klHTt9HAprDb"
      },
      "execution_count": null,
      "outputs": []
    },
    {
      "cell_type": "code",
      "source": [
        "def generate_answer(question):\n",
        "    prompt = question + \" ->\"\n",
        "    input_ids = tokenizer(prompt, return_tensors=\"pt\").input_ids\n",
        "    gen_output = model.generate(input_ids=input_ids, max_length=100)[0]\n",
        "    response = tokenizer.decode(gen_output, skip_special_tokens=True)\n",
        "    return response\n",
        "\n",
        "total_questions = len(test_data)\n",
        "predictions = []\n",
        "count = 0\n",
        "\n",
        "# Iterate over the test data and generate answers\n",
        "for index, row in enumerate(test_data):\n",
        "    if count >= 500:\n",
        "        break\n",
        "    print(f\"Processed question {count + 1} out of {total_questions}\")\n",
        "    question = row[\"input\"]\n",
        "    predicted_answer = generate_answer(question)\n",
        "    predictions.append(predicted_answer)\n",
        "    count += 1"
      ],
      "metadata": {
        "execution": {
          "iopub.status.busy": "2024-05-25T10:58:09.947757Z",
          "iopub.execute_input": "2024-05-25T10:58:09.948673Z",
          "iopub.status.idle": "2024-05-25T11:17:10.777060Z",
          "shell.execute_reply.started": "2024-05-25T10:58:09.948640Z",
          "shell.execute_reply": "2024-05-25T11:17:10.776075Z"
        },
        "scrolled": true,
        "trusted": true,
        "id": "Rtp6jb7MprDb",
        "outputId": "7478c68a-9494-4a0f-b063-6b07326111d7"
      },
      "execution_count": null,
      "outputs": [
        {
          "name": "stdout",
          "text": "Processed question 1 out of 3396\nProcessed question 2 out of 3396\nProcessed question 3 out of 3396\nProcessed question 4 out of 3396\nProcessed question 5 out of 3396\nProcessed question 6 out of 3396\nProcessed question 7 out of 3396\nProcessed question 8 out of 3396\nProcessed question 9 out of 3396\nProcessed question 10 out of 3396\nProcessed question 11 out of 3396\nProcessed question 12 out of 3396\nProcessed question 13 out of 3396\nProcessed question 14 out of 3396\nProcessed question 15 out of 3396\nProcessed question 16 out of 3396\nProcessed question 17 out of 3396\nProcessed question 18 out of 3396\nProcessed question 19 out of 3396\nProcessed question 20 out of 3396\nProcessed question 21 out of 3396\nProcessed question 22 out of 3396\nProcessed question 23 out of 3396\nProcessed question 24 out of 3396\nProcessed question 25 out of 3396\nProcessed question 26 out of 3396\nProcessed question 27 out of 3396\nProcessed question 28 out of 3396\nProcessed question 29 out of 3396\nProcessed question 30 out of 3396\nProcessed question 31 out of 3396\nProcessed question 32 out of 3396\nProcessed question 33 out of 3396\nProcessed question 34 out of 3396\nProcessed question 35 out of 3396\nProcessed question 36 out of 3396\nProcessed question 37 out of 3396\nProcessed question 38 out of 3396\nProcessed question 39 out of 3396\nProcessed question 40 out of 3396\nProcessed question 41 out of 3396\nProcessed question 42 out of 3396\nProcessed question 43 out of 3396\nProcessed question 44 out of 3396\nProcessed question 45 out of 3396\nProcessed question 46 out of 3396\nProcessed question 47 out of 3396\nProcessed question 48 out of 3396\nProcessed question 49 out of 3396\nProcessed question 50 out of 3396\nProcessed question 51 out of 3396\nProcessed question 52 out of 3396\nProcessed question 53 out of 3396\nProcessed question 54 out of 3396\nProcessed question 55 out of 3396\nProcessed question 56 out of 3396\nProcessed question 57 out of 3396\nProcessed question 58 out of 3396\nProcessed question 59 out of 3396\nProcessed question 60 out of 3396\nProcessed question 61 out of 3396\nProcessed question 62 out of 3396\nProcessed question 63 out of 3396\nProcessed question 64 out of 3396\nProcessed question 65 out of 3396\nProcessed question 66 out of 3396\nProcessed question 67 out of 3396\nProcessed question 68 out of 3396\nProcessed question 69 out of 3396\nProcessed question 70 out of 3396\nProcessed question 71 out of 3396\nProcessed question 72 out of 3396\nProcessed question 73 out of 3396\nProcessed question 74 out of 3396\nProcessed question 75 out of 3396\nProcessed question 76 out of 3396\nProcessed question 77 out of 3396\nProcessed question 78 out of 3396\nProcessed question 79 out of 3396\nProcessed question 80 out of 3396\nProcessed question 81 out of 3396\nProcessed question 82 out of 3396\nProcessed question 83 out of 3396\nProcessed question 84 out of 3396\nProcessed question 85 out of 3396\nProcessed question 86 out of 3396\nProcessed question 87 out of 3396\nProcessed question 88 out of 3396\nProcessed question 89 out of 3396\nProcessed question 90 out of 3396\nProcessed question 91 out of 3396\nProcessed question 92 out of 3396\nProcessed question 93 out of 3396\nProcessed question 94 out of 3396\nProcessed question 95 out of 3396\nProcessed question 96 out of 3396\nProcessed question 97 out of 3396\nProcessed question 98 out of 3396\nProcessed question 99 out of 3396\nProcessed question 100 out of 3396\nProcessed question 101 out of 3396\nProcessed question 102 out of 3396\nProcessed question 103 out of 3396\nProcessed question 104 out of 3396\nProcessed question 105 out of 3396\nProcessed question 106 out of 3396\nProcessed question 107 out of 3396\nProcessed question 108 out of 3396\nProcessed question 109 out of 3396\nProcessed question 110 out of 3396\nProcessed question 111 out of 3396\nProcessed question 112 out of 3396\nProcessed question 113 out of 3396\nProcessed question 114 out of 3396\nProcessed question 115 out of 3396\nProcessed question 116 out of 3396\nProcessed question 117 out of 3396\nProcessed question 118 out of 3396\nProcessed question 119 out of 3396\nProcessed question 120 out of 3396\nProcessed question 121 out of 3396\nProcessed question 122 out of 3396\nProcessed question 123 out of 3396\nProcessed question 124 out of 3396\nProcessed question 125 out of 3396\nProcessed question 126 out of 3396\nProcessed question 127 out of 3396\nProcessed question 128 out of 3396\nProcessed question 129 out of 3396\nProcessed question 130 out of 3396\nProcessed question 131 out of 3396\nProcessed question 132 out of 3396\nProcessed question 133 out of 3396\nProcessed question 134 out of 3396\nProcessed question 135 out of 3396\nProcessed question 136 out of 3396\nProcessed question 137 out of 3396\nProcessed question 138 out of 3396\nProcessed question 139 out of 3396\nProcessed question 140 out of 3396\nProcessed question 141 out of 3396\nProcessed question 142 out of 3396\nProcessed question 143 out of 3396\nProcessed question 144 out of 3396\nProcessed question 145 out of 3396\nProcessed question 146 out of 3396\nProcessed question 147 out of 3396\nProcessed question 148 out of 3396\nProcessed question 149 out of 3396\nProcessed question 150 out of 3396\nProcessed question 151 out of 3396\nProcessed question 152 out of 3396\nProcessed question 153 out of 3396\nProcessed question 154 out of 3396\nProcessed question 155 out of 3396\nProcessed question 156 out of 3396\nProcessed question 157 out of 3396\nProcessed question 158 out of 3396\nProcessed question 159 out of 3396\nProcessed question 160 out of 3396\nProcessed question 161 out of 3396\nProcessed question 162 out of 3396\nProcessed question 163 out of 3396\nProcessed question 164 out of 3396\nProcessed question 165 out of 3396\nProcessed question 166 out of 3396\nProcessed question 167 out of 3396\nProcessed question 168 out of 3396\nProcessed question 169 out of 3396\nProcessed question 170 out of 3396\nProcessed question 171 out of 3396\nProcessed question 172 out of 3396\nProcessed question 173 out of 3396\nProcessed question 174 out of 3396\nProcessed question 175 out of 3396\nProcessed question 176 out of 3396\nProcessed question 177 out of 3396\nProcessed question 178 out of 3396\nProcessed question 179 out of 3396\nProcessed question 180 out of 3396\nProcessed question 181 out of 3396\nProcessed question 182 out of 3396\nProcessed question 183 out of 3396\nProcessed question 184 out of 3396\nProcessed question 185 out of 3396\nProcessed question 186 out of 3396\nProcessed question 187 out of 3396\nProcessed question 188 out of 3396\nProcessed question 189 out of 3396\nProcessed question 190 out of 3396\nProcessed question 191 out of 3396\nProcessed question 192 out of 3396\nProcessed question 193 out of 3396\nProcessed question 194 out of 3396\nProcessed question 195 out of 3396\nProcessed question 196 out of 3396\nProcessed question 197 out of 3396\nProcessed question 198 out of 3396\nProcessed question 199 out of 3396\nProcessed question 200 out of 3396\nProcessed question 201 out of 3396\nProcessed question 202 out of 3396\nProcessed question 203 out of 3396\nProcessed question 204 out of 3396\nProcessed question 205 out of 3396\nProcessed question 206 out of 3396\nProcessed question 207 out of 3396\nProcessed question 208 out of 3396\nProcessed question 209 out of 3396\nProcessed question 210 out of 3396\nProcessed question 211 out of 3396\nProcessed question 212 out of 3396\nProcessed question 213 out of 3396\nProcessed question 214 out of 3396\nProcessed question 215 out of 3396\nProcessed question 216 out of 3396\nProcessed question 217 out of 3396\nProcessed question 218 out of 3396\nProcessed question 219 out of 3396\nProcessed question 220 out of 3396\nProcessed question 221 out of 3396\nProcessed question 222 out of 3396\nProcessed question 223 out of 3396\nProcessed question 224 out of 3396\nProcessed question 225 out of 3396\nProcessed question 226 out of 3396\nProcessed question 227 out of 3396\nProcessed question 228 out of 3396\nProcessed question 229 out of 3396\nProcessed question 230 out of 3396\nProcessed question 231 out of 3396\nProcessed question 232 out of 3396\nProcessed question 233 out of 3396\nProcessed question 234 out of 3396\nProcessed question 235 out of 3396\nProcessed question 236 out of 3396\nProcessed question 237 out of 3396\nProcessed question 238 out of 3396\nProcessed question 239 out of 3396\nProcessed question 240 out of 3396\nProcessed question 241 out of 3396\nProcessed question 242 out of 3396\nProcessed question 243 out of 3396\nProcessed question 244 out of 3396\nProcessed question 245 out of 3396\nProcessed question 246 out of 3396\nProcessed question 247 out of 3396\nProcessed question 248 out of 3396\nProcessed question 249 out of 3396\nProcessed question 250 out of 3396\nProcessed question 251 out of 3396\nProcessed question 252 out of 3396\nProcessed question 253 out of 3396\nProcessed question 254 out of 3396\nProcessed question 255 out of 3396\nProcessed question 256 out of 3396\nProcessed question 257 out of 3396\nProcessed question 258 out of 3396\nProcessed question 259 out of 3396\nProcessed question 260 out of 3396\nProcessed question 261 out of 3396\nProcessed question 262 out of 3396\nProcessed question 263 out of 3396\nProcessed question 264 out of 3396\nProcessed question 265 out of 3396\nProcessed question 266 out of 3396\nProcessed question 267 out of 3396\nProcessed question 268 out of 3396\nProcessed question 269 out of 3396\nProcessed question 270 out of 3396\nProcessed question 271 out of 3396\nProcessed question 272 out of 3396\nProcessed question 273 out of 3396\nProcessed question 274 out of 3396\nProcessed question 275 out of 3396\nProcessed question 276 out of 3396\nProcessed question 277 out of 3396\nProcessed question 278 out of 3396\nProcessed question 279 out of 3396\nProcessed question 280 out of 3396\nProcessed question 281 out of 3396\nProcessed question 282 out of 3396\nProcessed question 283 out of 3396\nProcessed question 284 out of 3396\nProcessed question 285 out of 3396\nProcessed question 286 out of 3396\nProcessed question 287 out of 3396\nProcessed question 288 out of 3396\nProcessed question 289 out of 3396\nProcessed question 290 out of 3396\nProcessed question 291 out of 3396\nProcessed question 292 out of 3396\nProcessed question 293 out of 3396\nProcessed question 294 out of 3396\nProcessed question 295 out of 3396\nProcessed question 296 out of 3396\nProcessed question 297 out of 3396\nProcessed question 298 out of 3396\nProcessed question 299 out of 3396\nProcessed question 300 out of 3396\nProcessed question 301 out of 3396\nProcessed question 302 out of 3396\nProcessed question 303 out of 3396\nProcessed question 304 out of 3396\nProcessed question 305 out of 3396\nProcessed question 306 out of 3396\nProcessed question 307 out of 3396\nProcessed question 308 out of 3396\nProcessed question 309 out of 3396\nProcessed question 310 out of 3396\nProcessed question 311 out of 3396\nProcessed question 312 out of 3396\nProcessed question 313 out of 3396\nProcessed question 314 out of 3396\nProcessed question 315 out of 3396\nProcessed question 316 out of 3396\nProcessed question 317 out of 3396\nProcessed question 318 out of 3396\nProcessed question 319 out of 3396\nProcessed question 320 out of 3396\nProcessed question 321 out of 3396\nProcessed question 322 out of 3396\nProcessed question 323 out of 3396\nProcessed question 324 out of 3396\nProcessed question 325 out of 3396\nProcessed question 326 out of 3396\nProcessed question 327 out of 3396\nProcessed question 328 out of 3396\nProcessed question 329 out of 3396\nProcessed question 330 out of 3396\nProcessed question 331 out of 3396\nProcessed question 332 out of 3396\nProcessed question 333 out of 3396\nProcessed question 334 out of 3396\nProcessed question 335 out of 3396\nProcessed question 336 out of 3396\nProcessed question 337 out of 3396\nProcessed question 338 out of 3396\nProcessed question 339 out of 3396\nProcessed question 340 out of 3396\nProcessed question 341 out of 3396\nProcessed question 342 out of 3396\nProcessed question 343 out of 3396\nProcessed question 344 out of 3396\nProcessed question 345 out of 3396\nProcessed question 346 out of 3396\nProcessed question 347 out of 3396\nProcessed question 348 out of 3396\nProcessed question 349 out of 3396\nProcessed question 350 out of 3396\nProcessed question 351 out of 3396\nProcessed question 352 out of 3396\nProcessed question 353 out of 3396\nProcessed question 354 out of 3396\nProcessed question 355 out of 3396\nProcessed question 356 out of 3396\nProcessed question 357 out of 3396\nProcessed question 358 out of 3396\nProcessed question 359 out of 3396\nProcessed question 360 out of 3396\nProcessed question 361 out of 3396\nProcessed question 362 out of 3396\nProcessed question 363 out of 3396\nProcessed question 364 out of 3396\nProcessed question 365 out of 3396\nProcessed question 366 out of 3396\nProcessed question 367 out of 3396\nProcessed question 368 out of 3396\nProcessed question 369 out of 3396\nProcessed question 370 out of 3396\nProcessed question 371 out of 3396\nProcessed question 372 out of 3396\nProcessed question 373 out of 3396\nProcessed question 374 out of 3396\nProcessed question 375 out of 3396\nProcessed question 376 out of 3396\nProcessed question 377 out of 3396\nProcessed question 378 out of 3396\nProcessed question 379 out of 3396\nProcessed question 380 out of 3396\nProcessed question 381 out of 3396\nProcessed question 382 out of 3396\nProcessed question 383 out of 3396\nProcessed question 384 out of 3396\nProcessed question 385 out of 3396\nProcessed question 386 out of 3396\nProcessed question 387 out of 3396\nProcessed question 388 out of 3396\nProcessed question 389 out of 3396\nProcessed question 390 out of 3396\nProcessed question 391 out of 3396\nProcessed question 392 out of 3396\nProcessed question 393 out of 3396\nProcessed question 394 out of 3396\nProcessed question 395 out of 3396\nProcessed question 396 out of 3396\nProcessed question 397 out of 3396\nProcessed question 398 out of 3396\nProcessed question 399 out of 3396\nProcessed question 400 out of 3396\nProcessed question 401 out of 3396\nProcessed question 402 out of 3396\nProcessed question 403 out of 3396\nProcessed question 404 out of 3396\nProcessed question 405 out of 3396\nProcessed question 406 out of 3396\nProcessed question 407 out of 3396\nProcessed question 408 out of 3396\nProcessed question 409 out of 3396\nProcessed question 410 out of 3396\nProcessed question 411 out of 3396\nProcessed question 412 out of 3396\nProcessed question 413 out of 3396\nProcessed question 414 out of 3396\nProcessed question 415 out of 3396\nProcessed question 416 out of 3396\nProcessed question 417 out of 3396\nProcessed question 418 out of 3396\nProcessed question 419 out of 3396\nProcessed question 420 out of 3396\nProcessed question 421 out of 3396\nProcessed question 422 out of 3396\nProcessed question 423 out of 3396\nProcessed question 424 out of 3396\nProcessed question 425 out of 3396\nProcessed question 426 out of 3396\nProcessed question 427 out of 3396\nProcessed question 428 out of 3396\nProcessed question 429 out of 3396\nProcessed question 430 out of 3396\nProcessed question 431 out of 3396\nProcessed question 432 out of 3396\nProcessed question 433 out of 3396\nProcessed question 434 out of 3396\nProcessed question 435 out of 3396\nProcessed question 436 out of 3396\nProcessed question 437 out of 3396\nProcessed question 438 out of 3396\nProcessed question 439 out of 3396\nProcessed question 440 out of 3396\nProcessed question 441 out of 3396\nProcessed question 442 out of 3396\nProcessed question 443 out of 3396\nProcessed question 444 out of 3396\nProcessed question 445 out of 3396\nProcessed question 446 out of 3396\nProcessed question 447 out of 3396\nProcessed question 448 out of 3396\nProcessed question 449 out of 3396\nProcessed question 450 out of 3396\nProcessed question 451 out of 3396\nProcessed question 452 out of 3396\nProcessed question 453 out of 3396\nProcessed question 454 out of 3396\nProcessed question 455 out of 3396\nProcessed question 456 out of 3396\nProcessed question 457 out of 3396\nProcessed question 458 out of 3396\nProcessed question 459 out of 3396\nProcessed question 460 out of 3396\nProcessed question 461 out of 3396\nProcessed question 462 out of 3396\nProcessed question 463 out of 3396\nProcessed question 464 out of 3396\nProcessed question 465 out of 3396\nProcessed question 466 out of 3396\nProcessed question 467 out of 3396\nProcessed question 468 out of 3396\nProcessed question 469 out of 3396\nProcessed question 470 out of 3396\nProcessed question 471 out of 3396\nProcessed question 472 out of 3396\nProcessed question 473 out of 3396\nProcessed question 474 out of 3396\nProcessed question 475 out of 3396\nProcessed question 476 out of 3396\nProcessed question 477 out of 3396\nProcessed question 478 out of 3396\nProcessed question 479 out of 3396\nProcessed question 480 out of 3396\nProcessed question 481 out of 3396\nProcessed question 482 out of 3396\nProcessed question 483 out of 3396\nProcessed question 484 out of 3396\nProcessed question 485 out of 3396\nProcessed question 486 out of 3396\nProcessed question 487 out of 3396\nProcessed question 488 out of 3396\nProcessed question 489 out of 3396\nProcessed question 490 out of 3396\nProcessed question 491 out of 3396\nProcessed question 492 out of 3396\nProcessed question 493 out of 3396\nProcessed question 494 out of 3396\nProcessed question 495 out of 3396\nProcessed question 496 out of 3396\nProcessed question 497 out of 3396\nProcessed question 498 out of 3396\nProcessed question 499 out of 3396\nProcessed question 500 out of 3396\n",
          "output_type": "stream"
        }
      ]
    },
    {
      "cell_type": "code",
      "source": [
        "# Function to calculate embeddings using the tokenizer\n",
        "def calculate_embeddings(text_list):\n",
        "    embeddings = []\n",
        "    for text in text_list:\n",
        "        inputs = tokenizer(text, return_tensors=\"pt\", truncation=True, padding=True)\n",
        "        with torch.no_grad():\n",
        "            outputs = model.encoder(**inputs)\n",
        "        embeddings.append(outputs.last_hidden_state.mean(dim=1).squeeze().cpu().numpy())\n",
        "    return embeddings"
      ],
      "metadata": {
        "execution": {
          "iopub.status.busy": "2024-05-25T11:17:11.665617Z",
          "iopub.execute_input": "2024-05-25T11:17:11.666536Z",
          "iopub.status.idle": "2024-05-25T11:17:11.672183Z",
          "shell.execute_reply.started": "2024-05-25T11:17:11.666502Z",
          "shell.execute_reply": "2024-05-25T11:17:11.671332Z"
        },
        "trusted": true,
        "id": "AbVPhf5CprDc"
      },
      "execution_count": null,
      "outputs": []
    },
    {
      "cell_type": "code",
      "source": [
        "# Calculate embeddings for references and predictions\n",
        "reference_embeddings = calculate_embeddings(references)\n",
        "prediction_embeddings = calculate_embeddings(predictions)"
      ],
      "metadata": {
        "execution": {
          "iopub.status.busy": "2024-05-25T11:17:13.201755Z",
          "iopub.execute_input": "2024-05-25T11:17:13.202466Z",
          "iopub.status.idle": "2024-05-25T11:22:34.207002Z",
          "shell.execute_reply.started": "2024-05-25T11:17:13.202423Z",
          "shell.execute_reply": "2024-05-25T11:22:34.205922Z"
        },
        "trusted": true,
        "id": "3QbRwLPRprDd"
      },
      "execution_count": null,
      "outputs": []
    },
    {
      "cell_type": "code",
      "source": [
        "# Compute cosine similarity for each pair of embeddings\n",
        "cosine_similarities = []\n",
        "for ref_emb, pred_emb in zip(reference_embeddings, prediction_embeddings):\n",
        "    ref_emb = ref_emb.reshape(1, -1)\n",
        "    pred_emb = pred_emb.reshape(1, -1)\n",
        "    cos_sim = cosine_similarity(ref_emb, pred_emb)[0][0]\n",
        "    cosine_similarities.append(cos_sim)"
      ],
      "metadata": {
        "execution": {
          "iopub.status.busy": "2024-05-25T11:23:07.265427Z",
          "iopub.execute_input": "2024-05-25T11:23:07.265809Z",
          "iopub.status.idle": "2024-05-25T11:23:07.420512Z",
          "shell.execute_reply.started": "2024-05-25T11:23:07.265779Z",
          "shell.execute_reply": "2024-05-25T11:23:07.419712Z"
        },
        "trusted": true,
        "id": "TujjdZnTprDd"
      },
      "execution_count": null,
      "outputs": []
    },
    {
      "cell_type": "code",
      "source": [
        "# Calculate the average cosine similarity\n",
        "average_cosine_similarity = sum(cosine_similarities) / len(cosine_similarities)\n",
        "print(f'Average Cosine Similarity: {average_cosine_similarity:.2f}')"
      ],
      "metadata": {
        "execution": {
          "iopub.status.busy": "2024-05-25T11:23:24.875208Z",
          "iopub.execute_input": "2024-05-25T11:23:24.875586Z",
          "iopub.status.idle": "2024-05-25T11:23:24.881311Z",
          "shell.execute_reply.started": "2024-05-25T11:23:24.875556Z",
          "shell.execute_reply": "2024-05-25T11:23:24.880133Z"
        },
        "trusted": true,
        "id": "UwnwR2yrprDd",
        "outputId": "1c36cc10-3966-4dd3-a8f2-dd58834e3a54"
      },
      "execution_count": null,
      "outputs": [
        {
          "name": "stdout",
          "text": "Average Cosine Similarity: 0.61\n",
          "output_type": "stream"
        }
      ]
    },
    {
      "cell_type": "code",
      "source": [
        "# Function to calculate BLEU score\n",
        "def calculate_bleu(reference, prediction):\n",
        "    reference_tokens = [nltk.word_tokenize(reference)]\n",
        "    prediction_tokens = nltk.word_tokenize(prediction)\n",
        "    # Using smoothing function to avoid zero scores for short sequences\n",
        "    smoothing_function = SmoothingFunction().method1\n",
        "    bleu_score = sentence_bleu(reference_tokens, prediction_tokens, smoothing_function=smoothing_function)\n",
        "    return bleu_score"
      ],
      "metadata": {
        "execution": {
          "iopub.status.busy": "2024-05-25T11:23:27.990702Z",
          "iopub.execute_input": "2024-05-25T11:23:27.991094Z",
          "iopub.status.idle": "2024-05-25T11:23:27.996682Z",
          "shell.execute_reply.started": "2024-05-25T11:23:27.991065Z",
          "shell.execute_reply": "2024-05-25T11:23:27.995763Z"
        },
        "trusted": true,
        "id": "Q_DQBowqprDe"
      },
      "execution_count": null,
      "outputs": []
    },
    {
      "cell_type": "code",
      "source": [
        "# Calculate BLEU scores for all predictions\n",
        "bleu_scores = [calculate_bleu(ref, pred) for ref, pred in zip(references, predictions)]"
      ],
      "metadata": {
        "execution": {
          "iopub.status.busy": "2024-05-25T11:23:29.341198Z",
          "iopub.execute_input": "2024-05-25T11:23:29.341556Z",
          "iopub.status.idle": "2024-05-25T11:23:29.916258Z",
          "shell.execute_reply.started": "2024-05-25T11:23:29.341527Z",
          "shell.execute_reply": "2024-05-25T11:23:29.915291Z"
        },
        "trusted": true,
        "id": "Fyak2kHbprDf"
      },
      "execution_count": null,
      "outputs": []
    },
    {
      "cell_type": "code",
      "source": [
        "# Calculate average BLEU score\n",
        "average_bleu_score = sum(bleu_scores) / len(bleu_scores)\n",
        "print(f'Average BLEU Score: {average_bleu_score:.2f}')"
      ],
      "metadata": {
        "execution": {
          "iopub.status.busy": "2024-05-25T11:23:31.796049Z",
          "iopub.execute_input": "2024-05-25T11:23:31.796679Z",
          "iopub.status.idle": "2024-05-25T11:23:31.801579Z",
          "shell.execute_reply.started": "2024-05-25T11:23:31.796646Z",
          "shell.execute_reply": "2024-05-25T11:23:31.800710Z"
        },
        "trusted": true,
        "id": "FbHGEN48prDf",
        "outputId": "628f6fe3-d3fe-42f5-da6d-9c9a242d4563"
      },
      "execution_count": null,
      "outputs": [
        {
          "name": "stdout",
          "text": "Average BLEU Score: 0.02\n",
          "output_type": "stream"
        }
      ]
    },
    {
      "cell_type": "markdown",
      "source": [
        "# Performance on another dataset"
      ],
      "metadata": {
        "id": "T8x5FTJLprDf"
      }
    },
    {
      "cell_type": "code",
      "source": [
        "# Load the dataset from Hugging Face and converting into pandas to inspect it\n",
        "data = load_dataset(\"GokulWork/QuestionAnswer_MCQ\")\n",
        "df = data['train'].to_pandas()\n",
        "df.head(10)"
      ],
      "metadata": {
        "execution": {
          "iopub.status.busy": "2024-05-25T11:27:57.565942Z",
          "iopub.execute_input": "2024-05-25T11:27:57.566370Z",
          "iopub.status.idle": "2024-05-25T11:27:58.466693Z",
          "shell.execute_reply.started": "2024-05-25T11:27:57.566340Z",
          "shell.execute_reply": "2024-05-25T11:27:58.465682Z"
        },
        "trusted": true,
        "id": "UUOaNNFkprDg",
        "outputId": "d2a13c10-85f4-415f-dcb0-60518c8e8ffe"
      },
      "execution_count": null,
      "outputs": [
        {
          "execution_count": 54,
          "output_type": "execute_result",
          "data": {
            "text/plain": "   Unnamed: 0                                           question  \\\n0           0                                   What is a force?   \n1           1              What is Newton's First Law of Motion?   \n2           2  What is the difference between speed and veloc...   \n3           3  Explain that when the kinetic energy of an obj...   \n4           4           What is the SI unit of electric current?   \n5           5  What does the term 'refraction' refer to in ph...   \n6           6       What is the law of conservation of momentum?   \n7           7  What is the primary role of a capacitor in an ...   \n8           8  What is the result of applying a force to an o...   \n9           9   What property of a wave determines its loudness?   \n\n                                              answer  \\\n0  Correct Answer- A force is a push or pull that...   \n1  Correct Answer- Newton's First Law of Motion, ...   \n2  Correct Answer- Speed is a scalar quantity tha...   \n3  Correct Answer- The change in kinetic energy c...   \n4  Correct Answer- Ampere\\n\\nRationale- Ampere is...   \n5  Correct Answer- Bending of light when it passe...   \n6  Correct Answer- The total momentum of a closed...   \n7  Correct Answer- To store and release electric ...   \n8  Correct Answer- Impulse.\\n\\nRationale- Impulse...   \n9  Correct Answer- Amplitude.\\n\\nRationale- Ampli...   \n\n                                                text  \n0  ###Human:\\ngenerate a correct answer, a ration...  \n1  ###Human:\\ngenerate a correct answer, a ration...  \n2  ###Human:\\ngenerate a correct answer, a ration...  \n3  ###Human:\\ngenerate a correct answer, a ration...  \n4  ###Human:\\ngenerate a correct answer, a ration...  \n5  ###Human:\\ngenerate a correct answer, a ration...  \n6  ###Human:\\ngenerate a correct answer, a ration...  \n7  ###Human:\\ngenerate a correct answer, a ration...  \n8  ###Human:\\ngenerate a correct answer, a ration...  \n9  ###Human:\\ngenerate a correct answer, a ration...  ",
            "text/html": "<div>\n<style scoped>\n    .dataframe tbody tr th:only-of-type {\n        vertical-align: middle;\n    }\n\n    .dataframe tbody tr th {\n        vertical-align: top;\n    }\n\n    .dataframe thead th {\n        text-align: right;\n    }\n</style>\n<table border=\"1\" class=\"dataframe\">\n  <thead>\n    <tr style=\"text-align: right;\">\n      <th></th>\n      <th>Unnamed: 0</th>\n      <th>question</th>\n      <th>answer</th>\n      <th>text</th>\n    </tr>\n  </thead>\n  <tbody>\n    <tr>\n      <th>0</th>\n      <td>0</td>\n      <td>What is a force?</td>\n      <td>Correct Answer- A force is a push or pull that...</td>\n      <td>###Human:\\ngenerate a correct answer, a ration...</td>\n    </tr>\n    <tr>\n      <th>1</th>\n      <td>1</td>\n      <td>What is Newton's First Law of Motion?</td>\n      <td>Correct Answer- Newton's First Law of Motion, ...</td>\n      <td>###Human:\\ngenerate a correct answer, a ration...</td>\n    </tr>\n    <tr>\n      <th>2</th>\n      <td>2</td>\n      <td>What is the difference between speed and veloc...</td>\n      <td>Correct Answer- Speed is a scalar quantity tha...</td>\n      <td>###Human:\\ngenerate a correct answer, a ration...</td>\n    </tr>\n    <tr>\n      <th>3</th>\n      <td>3</td>\n      <td>Explain that when the kinetic energy of an obj...</td>\n      <td>Correct Answer- The change in kinetic energy c...</td>\n      <td>###Human:\\ngenerate a correct answer, a ration...</td>\n    </tr>\n    <tr>\n      <th>4</th>\n      <td>4</td>\n      <td>What is the SI unit of electric current?</td>\n      <td>Correct Answer- Ampere\\n\\nRationale- Ampere is...</td>\n      <td>###Human:\\ngenerate a correct answer, a ration...</td>\n    </tr>\n    <tr>\n      <th>5</th>\n      <td>5</td>\n      <td>What does the term 'refraction' refer to in ph...</td>\n      <td>Correct Answer- Bending of light when it passe...</td>\n      <td>###Human:\\ngenerate a correct answer, a ration...</td>\n    </tr>\n    <tr>\n      <th>6</th>\n      <td>6</td>\n      <td>What is the law of conservation of momentum?</td>\n      <td>Correct Answer- The total momentum of a closed...</td>\n      <td>###Human:\\ngenerate a correct answer, a ration...</td>\n    </tr>\n    <tr>\n      <th>7</th>\n      <td>7</td>\n      <td>What is the primary role of a capacitor in an ...</td>\n      <td>Correct Answer- To store and release electric ...</td>\n      <td>###Human:\\ngenerate a correct answer, a ration...</td>\n    </tr>\n    <tr>\n      <th>8</th>\n      <td>8</td>\n      <td>What is the result of applying a force to an o...</td>\n      <td>Correct Answer- Impulse.\\n\\nRationale- Impulse...</td>\n      <td>###Human:\\ngenerate a correct answer, a ration...</td>\n    </tr>\n    <tr>\n      <th>9</th>\n      <td>9</td>\n      <td>What property of a wave determines its loudness?</td>\n      <td>Correct Answer- Amplitude.\\n\\nRationale- Ampli...</td>\n      <td>###Human:\\ngenerate a correct answer, a ration...</td>\n    </tr>\n  </tbody>\n</table>\n</div>"
          },
          "metadata": {}
        }
      ]
    },
    {
      "cell_type": "code",
      "source": [
        "# Keeping only the Question-Answering pair and computing basic informations\n",
        "dataframe = df[['question', 'answer']]\n",
        "# Basic Information\n",
        "print(\"Basic Information about the Dataset:\")\n",
        "print(f\"Total Documents: {len(dataframe)}\")\n",
        "print(f\"Average document length (words): {dataframe['question'].apply(lambda x: len(x.split())).mean()}\")"
      ],
      "metadata": {
        "execution": {
          "iopub.status.busy": "2024-05-25T11:28:01.377343Z",
          "iopub.execute_input": "2024-05-25T11:28:01.377699Z",
          "iopub.status.idle": "2024-05-25T11:28:01.393195Z",
          "shell.execute_reply.started": "2024-05-25T11:28:01.377673Z",
          "shell.execute_reply": "2024-05-25T11:28:01.392246Z"
        },
        "trusted": true,
        "id": "IlnKQFMsprDg",
        "outputId": "dcbc90c4-ff94-4924-bbc0-437e9569b3ad"
      },
      "execution_count": null,
      "outputs": [
        {
          "name": "stdout",
          "text": "Basic Information about the Dataset:\nTotal Documents: 205\nAverage document length (words): 12.61951219512195\n",
          "output_type": "stream"
        }
      ]
    },
    {
      "cell_type": "code",
      "source": [
        "dataframe.head(5)"
      ],
      "metadata": {
        "execution": {
          "iopub.status.busy": "2024-05-25T11:28:05.465925Z",
          "iopub.execute_input": "2024-05-25T11:28:05.466265Z",
          "iopub.status.idle": "2024-05-25T11:28:05.475636Z",
          "shell.execute_reply.started": "2024-05-25T11:28:05.466240Z",
          "shell.execute_reply": "2024-05-25T11:28:05.474612Z"
        },
        "trusted": true,
        "id": "i4CxCoOrprDh",
        "outputId": "76d4f2a9-75b0-46b0-f298-f9229dfcbd11"
      },
      "execution_count": null,
      "outputs": [
        {
          "execution_count": 56,
          "output_type": "execute_result",
          "data": {
            "text/plain": "                                            question  \\\n0                                   What is a force?   \n1              What is Newton's First Law of Motion?   \n2  What is the difference between speed and veloc...   \n3  Explain that when the kinetic energy of an obj...   \n4           What is the SI unit of electric current?   \n\n                                              answer  \n0  Correct Answer- A force is a push or pull that...  \n1  Correct Answer- Newton's First Law of Motion, ...  \n2  Correct Answer- Speed is a scalar quantity tha...  \n3  Correct Answer- The change in kinetic energy c...  \n4  Correct Answer- Ampere\\n\\nRationale- Ampere is...  ",
            "text/html": "<div>\n<style scoped>\n    .dataframe tbody tr th:only-of-type {\n        vertical-align: middle;\n    }\n\n    .dataframe tbody tr th {\n        vertical-align: top;\n    }\n\n    .dataframe thead th {\n        text-align: right;\n    }\n</style>\n<table border=\"1\" class=\"dataframe\">\n  <thead>\n    <tr style=\"text-align: right;\">\n      <th></th>\n      <th>question</th>\n      <th>answer</th>\n    </tr>\n  </thead>\n  <tbody>\n    <tr>\n      <th>0</th>\n      <td>What is a force?</td>\n      <td>Correct Answer- A force is a push or pull that...</td>\n    </tr>\n    <tr>\n      <th>1</th>\n      <td>What is Newton's First Law of Motion?</td>\n      <td>Correct Answer- Newton's First Law of Motion, ...</td>\n    </tr>\n    <tr>\n      <th>2</th>\n      <td>What is the difference between speed and veloc...</td>\n      <td>Correct Answer- Speed is a scalar quantity tha...</td>\n    </tr>\n    <tr>\n      <th>3</th>\n      <td>Explain that when the kinetic energy of an obj...</td>\n      <td>Correct Answer- The change in kinetic energy c...</td>\n    </tr>\n    <tr>\n      <th>4</th>\n      <td>What is the SI unit of electric current?</td>\n      <td>Correct Answer- Ampere\\n\\nRationale- Ampere is...</td>\n    </tr>\n  </tbody>\n</table>\n</div>"
          },
          "metadata": {}
        }
      ]
    },
    {
      "cell_type": "code",
      "source": [
        "# TF-IDF Analysis\n",
        "tfidf = TfidfVectorizer(max_features=1000, stop_words='english')\n",
        "tfidf_result = tfidf.fit_transform(dataframe['question'])\n",
        "tfidf_df = pd.DataFrame(tfidf_result.toarray(), columns=tfidf.get_feature_names_out())\n",
        "tfidf_df.columns = [str(x) for x in tfidf_df.columns]\n",
        "tfidf_df.index = df.index\n",
        "dataframe = pd.concat([dataframe, tfidf_df], axis=1)"
      ],
      "metadata": {
        "execution": {
          "iopub.status.busy": "2024-05-25T11:28:06.716483Z",
          "iopub.execute_input": "2024-05-25T11:28:06.716857Z",
          "iopub.status.idle": "2024-05-25T11:28:06.766791Z",
          "shell.execute_reply.started": "2024-05-25T11:28:06.716826Z",
          "shell.execute_reply": "2024-05-25T11:28:06.766085Z"
        },
        "trusted": true,
        "id": "cdxOo__NprDh"
      },
      "execution_count": null,
      "outputs": []
    },
    {
      "cell_type": "code",
      "source": [
        "# Visualizing the TF-IDF of the top 10 words\n",
        "top_n_tfidf = tfidf_df.max().sort_values(ascending=False)[:10]\n",
        "plt.figure(figsize=(12, 6))\n",
        "sns.barplot(x=top_n_tfidf.values, y=top_n_tfidf.index)\n",
        "plt.title('Top TF-IDF Scores in Documents')\n",
        "plt.xlabel('TF-IDF Score')\n",
        "plt.show()"
      ],
      "metadata": {
        "execution": {
          "iopub.status.busy": "2024-05-25T11:28:08.982714Z",
          "iopub.execute_input": "2024-05-25T11:28:08.983125Z",
          "iopub.status.idle": "2024-05-25T11:28:09.381439Z",
          "shell.execute_reply.started": "2024-05-25T11:28:08.983096Z",
          "shell.execute_reply": "2024-05-25T11:28:09.380425Z"
        },
        "trusted": true,
        "id": "sG3kJBGsprDi",
        "outputId": "51c64925-8e42-45e5-cd1c-e5ac67daec97"
      },
      "execution_count": null,
      "outputs": [
        {
          "output_type": "display_data",
          "data": {
            "text/plain": "<Figure size 1200x600 with 1 Axes>",
            "image/png": "[encoded data removed]"
          },
          "metadata": {}
        }
      ]
    },
    {
      "cell_type": "code",
      "source": [
        "import random\n",
        "\n",
        "for i in range(5):\n",
        "    random_index = random.randint(0, len(dataframe) - 1)\n",
        "    random_row = dataframe.iloc[random_index]\n",
        "    prompt = random_row[\"question\"] + \" ->\"\n",
        "    actual_answer = random_row[\"answer\"]\n",
        "\n",
        "\n",
        "    input_ids = tokenizer(prompt, return_tensors=\"pt\").input_ids\n",
        "    response = model.generate(input_ids=input_ids, max_length=20)[0]\n",
        "\n",
        "    response_text = tokenizer.decode(response, skip_special_tokens=True)\n",
        "\n",
        "    print('*************************************')\n",
        "    print('Question: ', prompt)\n",
        "    print('Actual Answer:', actual_answer)\n",
        "    print('Bot Answer: ', response_text)\n",
        "    print('*************************************\\n')"
      ],
      "metadata": {
        "execution": {
          "iopub.status.busy": "2024-05-25T11:28:12.754513Z",
          "iopub.execute_input": "2024-05-25T11:28:12.755332Z",
          "iopub.status.idle": "2024-05-25T11:28:19.261356Z",
          "shell.execute_reply.started": "2024-05-25T11:28:12.755299Z",
          "shell.execute_reply": "2024-05-25T11:28:19.260319Z"
        },
        "trusted": true,
        "id": "6qTVMedfprDj",
        "outputId": "6b4bc670-5a8d-4603-da17-d4b86cda9f10"
      },
      "execution_count": null,
      "outputs": [
        {
          "name": "stdout",
          "text": "*************************************\nQuestion:  What impact did the Plessy v. Ferguson Supreme Court decision have on segregation? ->\nActual Answer: Correct Answer- It upheld the 'separate but equal' doctrine and reinforced racial segregation.\n\nRationale- The decision supported segregation and allowed the 'separate but equal' policy to continue.\n\nDistractor 1- It declared segregation unconstitutional and ended racial discrimination.\nDistractor 2- It encouraged integration and equal treatment.\nDistractor 3- It had no impact on racial segregation.\nBot Answer:  The Supreme Court decision has largely halted segregation in the United States.\n*************************************\n\n*************************************\nQuestion:  Why do many of the gases in Mercury's atmosphere escape into space? ->\nActual Answer: Correct Answer- The planet's weak gravity.\n\nRationale- Mercury's weak gravity cannot hold onto the gases, leading to their escape.\n\nDistractor 1- Solar winds.\nDistractor 2- Intense sunlight.\nDistractor 3- Frequent volcanic activity.\nBot Answer:  The atmosphere is a thin layer of gases that surrounds the planet.\n*************************************\n\n*************************************\nQuestion:  Which layer of the Earth is the outermost and relatively thin? ->\nActual Answer: Correct Answer- Crust.\n\nRationale- The crust is the Earth's outermost layer and is thinner compared to the mantle and core.\n\nDistractor 1- Mantle.\nDistractor 2- Asthenosphere.\nDistractor 3- Inner core.\nBot Answer:  crust\n*************************************\n\n*************************************\nQuestion:  Which type of reaction involves the exchange of ions between two compounds, leading to the formation of new compounds? ->\nActual Answer: Correct Answer- Double displacement reaction.\n\nRationale- Double displacement reactions result in the exchange of ions between reactants.\n\nDistractor 1- Single displacement reaction.\nDistractor 2- Redox reaction.\nDistractor 3- Synthesis reaction.\nBot Answer:  reductive\n*************************************\n\n*************************************\nQuestion:  What is the function of the cell membrane? ->\nActual Answer: Correct Answer- To control the passage of substances in and out of the cell.\n\nRationale- The cell membrane regulates the movement of molecules and ions to maintain homeostasis.\n\nDistractor 1- To provide structural support to the cell.\nDistractor 2- To store genetic information.\nDistractor 3- To produce energy.\nBot Answer:  It is the primary cell wall.\n*************************************\n\n",
          "output_type": "stream"
        }
      ]
    }
  ]
}